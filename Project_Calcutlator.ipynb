{
  "cells": [
    {
      "cell_type": "markdown",
      "metadata": {
        "id": "view-in-github",
        "colab_type": "text"
      },
      "source": [
        "<a href=\"https://colab.research.google.com/github/edgarbarroso/ProjectBudgetCalculator/blob/main/Project_Calcutlator.ipynb\" target=\"_parent\"><img src=\"https://colab.research.google.com/assets/colab-badge.svg\" alt=\"Open In Colab\"/></a>"
      ]
    },
    {
      "cell_type": "markdown",
      "metadata": {
        "id": "0WAxE_SWu828"
      },
      "source": [
        "Colaboradores"
      ]
    },
    {
      "cell_type": "code",
      "execution_count": 538,
      "metadata": {
        "colab": {
          "base_uri": "https://localhost:8080/"
        },
        "id": "i1-FrFYw-lB_",
        "outputId": "dc9be4c5-97e1-4876-999a-37f32e8f03ae"
      },
      "outputs": [
        {
          "output_type": "stream",
          "name": "stdout",
          "text": [
            "$ 331034.4832 de impuestos\n",
            "Este es el total del presupuesto IVA incluido $ 2400000.0032\n"
          ]
        }
      ],
      "source": [
        "# Total del presupuesto\n",
        "gross_total_budget = 2068965.52\n",
        "tax_rate = .16\n",
        "tax_amount = gross_total_budget * tax_rate\n",
        "project_duration_months = 3\n",
        "print('$', tax_amount, 'de impuestos')\n",
        "net_total_budget = gross_total_budget + tax_amount\n",
        "print('Este es el total del presupuesto IVA incluido', '$', net_total_budget)"
      ]
    },
    {
      "cell_type": "code",
      "source": [
        "# Cuando sólo se tenga el total neto del proyecto\n",
        "net_total = 2400000.0\n",
        "tax_divider = 1.16\n",
        "gross_total = net_total/tax_divider\n",
        "gross_total * .16\n",
        "gross_total\n",
        "tax_cost = net_total - gross_total\n",
        "gross_total\n",
        "print(gross_total)"
      ],
      "metadata": {
        "colab": {
          "base_uri": "https://localhost:8080/"
        },
        "id": "UwM3Me4So5gZ",
        "outputId": "20d4d4fd-cb8a-44e7-e8b0-bf22a56ecd87"
      },
      "execution_count": 539,
      "outputs": [
        {
          "output_type": "stream",
          "name": "stdout",
          "text": [
            "2068965.5172413795\n"
          ]
        }
      ]
    },
    {
      "cell_type": "code",
      "execution_count": 540,
      "metadata": {
        "colab": {
          "base_uri": "https://localhost:8080/"
        },
        "id": "WG2T43K6JP81",
        "outputId": "7dbe2b70-dc56-478e-acb6-e23a90fd832b"
      },
      "outputs": [
        {
          "output_type": "stream",
          "name": "stdout",
          "text": [
            "Product Owner :\n"
          ]
        }
      ],
      "source": [
        "# Roles de colaboradores\n",
        "rol_colaborador01 = 'Product Owner'\n",
        "rol_colaborador02 = 'Tech Architect'\n",
        "rol_colaborador03 = 'Project Manager'\n",
        "rol_colaborador04 = 'Data Engineer'\n",
        "rol_colaborador05 = 'Data Scientist'\n",
        "rol_colaborador06 = 'Sr. Developer'\n",
        "rol_colaborador07 = 'Jr. Developer'\n",
        "rol_colaborador08 = 'Tester'\n",
        "rol_antena = 'Antena Labs'\n",
        "rol_imprevistos = 'Imprevistos'\n",
        "print(rol_colaborador01,':')"
      ]
    },
    {
      "cell_type": "code",
      "execution_count": 541,
      "metadata": {
        "colab": {
          "base_uri": "https://localhost:8080/"
        },
        "id": "NcagrylUu8Hi",
        "outputId": "fcca75a9-4bba-4911-efba-ee24b93c5b27"
      },
      "outputs": [
        {
          "output_type": "stream",
          "name": "stdout",
          "text": [
            "(100, '%')\n"
          ]
        }
      ],
      "source": [
        "# Input porcentajes por colaborador\n",
        "per_colaborador01 = 21\n",
        "per_colaborador02 = 13\n",
        "per_colaborador03 = 13\n",
        "per_colaborador04 = 13\n",
        "per_colaborador05 = 0\n",
        "per_colaborador06 = 0\n",
        "per_colaborador07 = 0\n",
        "per_colaborador08 = 0\n",
        "per_antena = 35\n",
        "per_imprevistos = 5\n",
        "total_per_budget = (per_colaborador01 + per_colaborador02 + per_colaborador03 \n",
        "                    + per_colaborador04 + per_colaborador05 + \n",
        "                    per_colaborador06 + per_colaborador07 + \n",
        "             per_colaborador08 + per_antena + per_imprevistos, '%')\n",
        "print(total_per_budget)"
      ]
    },
    {
      "cell_type": "code",
      "execution_count": 542,
      "metadata": {
        "colab": {
          "base_uri": "https://localhost:8080/"
        },
        "id": "7RT4eCzrMiZJ",
        "outputId": "fc8f5313-2b4c-4c14-c14d-9aa11f86c521"
      },
      "outputs": [
        {
          "output_type": "stream",
          "name": "stdout",
          "text": [
            "Product Owner 21 % del proyecto, se le paga del neto total $ 504000.000672\n"
          ]
        }
      ],
      "source": [
        "# Porcentaje del presupuesto total colaborador01\n",
        "percentage_number_to_decimal = per_colaborador01 / 100.0\n",
        "pay_colaborador01 = percentage_number_to_decimal * net_total_budget\n",
        "print(rol_colaborador01, per_colaborador01, '%', 'del proyecto, se le paga del neto total', '$', pay_colaborador01) \n",
        "monthly_rate_colaborador01 = pay_colaborador01 / project_duration_months      "
      ]
    },
    {
      "cell_type": "code",
      "execution_count": 543,
      "metadata": {
        "colab": {
          "base_uri": "https://localhost:8080/"
        },
        "id": "bL4a5VvXzhIs",
        "outputId": "2f771af6-4dbb-4aee-afa6-dd604723d58f"
      },
      "outputs": [
        {
          "output_type": "stream",
          "name": "stdout",
          "text": [
            "Tech Architect 13 % del proyecto, se le paga del neto total $ 312000.000416\n"
          ]
        }
      ],
      "source": [
        "# Porcentaje del presupuesto total por colaborador02\n",
        "percentage_number_to_decimal = per_colaborador02 / 100.0\n",
        "pay_colaborador02 = percentage_number_to_decimal * net_total_budget\n",
        "print(rol_colaborador02, per_colaborador02, '%', 'del proyecto, se le paga del neto total', '$', pay_colaborador02)\n",
        "monthly_rate_colaborador02 = pay_colaborador01 / project_duration_months     "
      ]
    },
    {
      "cell_type": "code",
      "execution_count": 544,
      "metadata": {
        "colab": {
          "base_uri": "https://localhost:8080/"
        },
        "id": "bmtJNh7R0d4p",
        "outputId": "05e17665-0f87-47c1-bfcf-153e5655ef29"
      },
      "outputs": [
        {
          "output_type": "stream",
          "name": "stdout",
          "text": [
            "Project Manager 13 % del proyecto, se le paga del neto total $ 312000.000416\n"
          ]
        }
      ],
      "source": [
        "# Porcentaje del presupuesto total por colaborador03\n",
        "percentage_number_to_decimal = per_colaborador03 / 100.0\n",
        "pay_colaborador03 = percentage_number_to_decimal * net_total_budget\n",
        "print(rol_colaborador03, per_colaborador03, '%', 'del proyecto, se le paga del neto total', '$', pay_colaborador03) \n",
        "monthly_rate_colaborador03 = pay_colaborador01 / project_duration_months    "
      ]
    },
    {
      "cell_type": "code",
      "execution_count": 545,
      "metadata": {
        "colab": {
          "base_uri": "https://localhost:8080/"
        },
        "id": "M0Lsdj-4PIuJ",
        "outputId": "fb9b4858-e1f5-472e-c794-9f53b4b14e60"
      },
      "outputs": [
        {
          "output_type": "stream",
          "name": "stdout",
          "text": [
            "Data Engineer 13 % del proyecto, se le paga del neto total $ 312000.000416\n"
          ]
        }
      ],
      "source": [
        "# Porcentaje del presupuesto total por colaborador04\n",
        "percentage_number_to_decimal = per_colaborador04 / 100.0\n",
        "pay_colaborador04 = percentage_number_to_decimal * net_total_budget\n",
        "print(rol_colaborador04, per_colaborador04, '%', 'del proyecto, se le paga del neto total', '$', pay_colaborador04) \n",
        "monthly_rate_colaborador04 = pay_colaborador04 / project_duration_months    "
      ]
    },
    {
      "cell_type": "code",
      "execution_count": 546,
      "metadata": {
        "colab": {
          "base_uri": "https://localhost:8080/"
        },
        "id": "Tx36zmY0Px2F",
        "outputId": "a21761be-0333-4313-96f5-d7b0704b5776"
      },
      "outputs": [
        {
          "output_type": "stream",
          "name": "stdout",
          "text": [
            "Data Scientist 0 % del proyecto, se le paga del neto total $ 0.0\n"
          ]
        }
      ],
      "source": [
        "# Porcentaje del presupuesto total por colaborador05\n",
        "percentage_number_to_decimal = per_colaborador05 / 100.0\n",
        "pay_colaborador05 = percentage_number_to_decimal * net_total_budget\n",
        "print(rol_colaborador05, per_colaborador05, '%', 'del proyecto, se le paga del neto total', '$', pay_colaborador05)\n",
        "monthly_rate_colaborador05 = pay_colaborador05 / project_duration_months     "
      ]
    },
    {
      "cell_type": "code",
      "execution_count": 547,
      "metadata": {
        "colab": {
          "base_uri": "https://localhost:8080/"
        },
        "id": "kAkLurCDP6nF",
        "outputId": "09d582cc-4496-4f61-a81c-cbf2822d3365"
      },
      "outputs": [
        {
          "output_type": "stream",
          "name": "stdout",
          "text": [
            "Sr. Developer 0 % del proyecto, se le paga del neto total $ 0.0\n"
          ]
        }
      ],
      "source": [
        "# Porcentaje del presupuesto total por colaborador06\n",
        "percentage_number_to_decimal = per_colaborador06 / 100.0\n",
        "pay_colaborador06 = percentage_number_to_decimal * net_total_budget\n",
        "print(rol_colaborador06, per_colaborador06, '%', 'del proyecto, se le paga del neto total', '$', pay_colaborador06) \n",
        "monthly_rate_colaborador06 = pay_colaborador06 / project_duration_months    "
      ]
    },
    {
      "cell_type": "code",
      "execution_count": 548,
      "metadata": {
        "colab": {
          "base_uri": "https://localhost:8080/"
        },
        "id": "b0p6LoF5QAwS",
        "outputId": "75d8eed6-e1fa-4741-d883-031a7552dafd"
      },
      "outputs": [
        {
          "output_type": "stream",
          "name": "stdout",
          "text": [
            "Jr. Developer 0 % del proyecto, se le paga del neto total $ 0.0\n"
          ]
        }
      ],
      "source": [
        "# Porcentaje del presupuesto total por colaborador07\n",
        "percentage_number_to_decimal = per_colaborador07 / 100.0\n",
        "pay_colaborador07 = percentage_number_to_decimal * net_total_budget\n",
        "print(rol_colaborador07, per_colaborador07, '%', 'del proyecto, se le paga del neto total', '$', pay_colaborador07)\n",
        "monthly_rate_colaborador07 = pay_colaborador07 / project_duration_months     "
      ]
    },
    {
      "cell_type": "code",
      "execution_count": 549,
      "metadata": {
        "colab": {
          "base_uri": "https://localhost:8080/"
        },
        "id": "r_-ej7NbQKwb",
        "outputId": "0fe6daec-6a36-4680-fc7c-cde1cf336ecf"
      },
      "outputs": [
        {
          "output_type": "stream",
          "name": "stdout",
          "text": [
            "Tester 0 % del proyecto, se le paga del neto total $ 0.0\n"
          ]
        }
      ],
      "source": [
        "# Porcentaje del presupuesto total por colaborador08\n",
        "percentage_number_to_decimal = per_colaborador08 / 100.0\n",
        "pay_colaborador08 = percentage_number_to_decimal * net_total_budget\n",
        "print(rol_colaborador08, per_colaborador08, '%', 'del proyecto, se le paga del neto total', '$', pay_colaborador08) \n",
        "monthly_rate_colaborador08 = pay_colaborador08 / project_duration_months    "
      ]
    },
    {
      "cell_type": "code",
      "execution_count": 550,
      "metadata": {
        "colab": {
          "base_uri": "https://localhost:8080/"
        },
        "id": "t7e4FHiPQSQd",
        "outputId": "6a3ba718-03d1-4bfc-ac9a-c35102b247f1"
      },
      "outputs": [
        {
          "output_type": "stream",
          "name": "stdout",
          "text": [
            "Antena Labs 35 % del proyecto, se le paga del neto total $ 840000.00112\n"
          ]
        }
      ],
      "source": [
        "# Porcentaje del presupuesto total para Antena Labs\n",
        "percentage_number_to_decimal = per_antena / 100.0\n",
        "pay_antena = percentage_number_to_decimal * net_total_budget\n",
        "print(rol_antena, per_antena, '%', 'del proyecto, se le paga del neto total', '$', pay_antena)\n",
        "monthly_rate_antena = pay_antena / project_duration_months     "
      ]
    },
    {
      "cell_type": "code",
      "execution_count": 551,
      "metadata": {
        "colab": {
          "base_uri": "https://localhost:8080/"
        },
        "id": "RAMHo9t3Qjr8",
        "outputId": "c99c5fd5-46e4-4fcd-e879-0698efdab850"
      },
      "outputs": [
        {
          "output_type": "stream",
          "name": "stdout",
          "text": [
            "Imprevistos 5 % del proyecto, se le paga del neto total $ 120000.00016000001\n"
          ]
        }
      ],
      "source": [
        "# Porcentaje del presupuesto total para imprevistos\n",
        "percentage_number_to_decimal = per_imprevistos / 100.0\n",
        "pay_imprevistos = percentage_number_to_decimal * net_total_budget\n",
        "print(rol_imprevistos, per_imprevistos, '%', 'del proyecto, se le paga del neto total', '$', pay_imprevistos)    \n",
        "monthly_rate_imprevistos = pay_imprevistos / project_duration_months     "
      ]
    },
    {
      "cell_type": "code",
      "execution_count": 552,
      "metadata": {
        "colab": {
          "base_uri": "https://localhost:8080/"
        },
        "id": "NE2yOx8zQwro",
        "outputId": "3b5cdada-8612-4f23-bfb8-a326f4ecfe6a"
      },
      "outputs": [
        {
          "output_type": "stream",
          "name": "stdout",
          "text": [
            "Product Owner 21 % del proyecto, se le paga del neto total $ 504000.000672 en 3 en mensualidades de 168000.000224\n",
            "Tech Architect 13 % del proyecto, se le paga del neto total $ 312000.000416 en 3 en mensualidades de 168000.000224\n",
            "Project Manager 13 % del proyecto, se le paga del neto total $ 312000.000416 en 3 en mensualidades de 168000.000224\n",
            "Data Engineer 13 % del proyecto, se le paga del neto total $ 312000.000416 en 3 en mensualidades de 104000.00013866667\n",
            "Data Scientist 0 % del proyecto, se le paga del neto total $ 0.0 en 3 en mensualidades de 0.0\n",
            "Sr. Developer 0 % del proyecto, se le paga del neto total $ 0.0 en 3 en mensualidades de 0.0\n",
            "Jr. Developer 0 % del proyecto, se le paga del neto total $ 0.0 en 3 en mensualidades de 0.0\n",
            "Tester 0 % del proyecto, se le paga del neto total $ 0.0 en 3 en mensualidades de 0.0\n",
            "Antena Labs 35 % del proyecto, se le paga del neto total $ 840000.00112\n",
            "Imprevistos 5 % del proyecto, se le paga a Antena del neto total $ 120000.00016000001\n",
            "Impuestos = $ 331034.4832\n",
            "Total de presupuesto (100, '%')\n",
            "Presupuesto total neto: MXN$ 2400000.0032\n"
          ]
        }
      ],
      "source": [
        "print(rol_colaborador01, per_colaborador01, '%', 'del proyecto, se le paga del neto total', '$', pay_colaborador01, 'en', project_duration_months, 'en mensualidades de', monthly_rate_colaborador01)\n",
        "print(rol_colaborador02, per_colaborador02, '%', 'del proyecto, se le paga del neto total', '$', pay_colaborador02, 'en', project_duration_months, 'en mensualidades de', monthly_rate_colaborador02)\n",
        "print(rol_colaborador03, per_colaborador03, '%', 'del proyecto, se le paga del neto total', '$', pay_colaborador03, 'en', project_duration_months, 'en mensualidades de', monthly_rate_colaborador03)\n",
        "print(rol_colaborador04, per_colaborador04, '%', 'del proyecto, se le paga del neto total', '$', pay_colaborador04, 'en', project_duration_months, 'en mensualidades de', monthly_rate_colaborador04)\n",
        "print(rol_colaborador05, per_colaborador05, '%', 'del proyecto, se le paga del neto total', '$', pay_colaborador05, 'en', project_duration_months, 'en mensualidades de', monthly_rate_colaborador05)\n",
        "print(rol_colaborador06, per_colaborador06, '%', 'del proyecto, se le paga del neto total', '$', pay_colaborador06, 'en', project_duration_months, 'en mensualidades de', monthly_rate_colaborador06)\n",
        "print(rol_colaborador07, per_colaborador07, '%', 'del proyecto, se le paga del neto total', '$', pay_colaborador07, 'en', project_duration_months, 'en mensualidades de', monthly_rate_colaborador07)\n",
        "print(rol_colaborador08, per_colaborador08, '%', 'del proyecto, se le paga del neto total', '$', pay_colaborador08, 'en', project_duration_months, 'en mensualidades de', monthly_rate_colaborador08)\n",
        "print(rol_antena, per_antena, '%', 'del proyecto, se le paga del neto total', '$', pay_antena)\n",
        "print(rol_imprevistos, per_imprevistos, '%', 'del proyecto, se le paga a Antena del neto total', '$', pay_imprevistos)\n",
        "print('Impuestos = $', tax_amount)\n",
        "print('Total de presupuesto', total_per_budget)\n",
        "print('Presupuesto total neto:', 'MXN$', net_total_budget)"
      ]
    }
  ],
  "metadata": {
    "colab": {
      "name": "Presupuesto_Simple.ipynb",
      "provenance": [],
      "collapsed_sections": [],
      "authorship_tag": "ABX9TyPdzZSjcS7vx+/CdOs/3Ajy",
      "include_colab_link": true
    },
    "kernelspec": {
      "display_name": "Python 3",
      "name": "python3"
    },
    "language_info": {
      "name": "python"
    }
  },
  "nbformat": 4,
  "nbformat_minor": 0
}