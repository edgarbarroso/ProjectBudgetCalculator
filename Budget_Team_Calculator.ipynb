{
  "cells": [
    {
      "cell_type": "markdown",
      "metadata": {
        "id": "view-in-github",
        "colab_type": "text"
      },
      "source": [
        "<a href=\"https://colab.research.google.com/github/edgarbarroso/ProjectBudgetCalculator/blob/main/Budget_Team_Calculator.ipynb\" target=\"_parent\"><img src=\"https://colab.research.google.com/assets/colab-badge.svg\" alt=\"Open In Colab\"/></a>"
      ]
    },
    {
      "cell_type": "markdown",
      "metadata": {
        "id": "0WAxE_SWu828"
      },
      "source": [
        "Colaboradores"
      ]
    },
    {
      "cell_type": "code",
      "execution_count": 324,
      "metadata": {
        "colab": {
          "base_uri": "https://localhost:8080/"
        },
        "id": "i1-FrFYw-lB_",
        "outputId": "aa8931f5-8bba-4f17-8f23-e9ba6dfe7b3a"
      },
      "outputs": [
        {
          "output_type": "stream",
          "name": "stdout",
          "text": [
            "$ 331,034.48 de impuestos\n",
            "200,000.00\n",
            "Este es el total del presupuesto IVA incluido $ 2400000.0032\n"
          ]
        }
      ],
      "source": [
        "# Total del presupuesto\n",
        "gross_total_budget = 2068965.52\n",
        "tax_rate = .16\n",
        "tax_amount = gross_total_budget * tax_rate\n",
        "project_duration_months = 12\n",
        "print('$', f'{tax_amount:,.2f}', 'de impuestos')\n",
        "net_total_budget = gross_total_budget + tax_amount\n",
        "net_monthly_budget = net_total_budget/project_duration_months\n",
        "print(f'{net_monthly_budget:,.2f}')\n",
        "print('Este es el total del presupuesto IVA incluido', '$', net_total_budget)"
      ]
    },
    {
      "cell_type": "code",
      "source": [
        "# Cuando sólo se tenga el total neto del proyecto\n",
        "net_total = 2400000.0\n",
        "tax_divider = 1.16\n",
        "gross_total = net_total/tax_divider\n",
        "gross_total * .16\n",
        "gross_total\n",
        "tax_cost = net_total - gross_total\n",
        "gross_total\n",
        "print(f'${gross_total:,.2f}')\n"
      ],
      "metadata": {
        "colab": {
          "base_uri": "https://localhost:8080/"
        },
        "id": "UwM3Me4So5gZ",
        "outputId": "e0d0dec8-3686-4147-eab7-e0c032cb6648"
      },
      "execution_count": 325,
      "outputs": [
        {
          "output_type": "stream",
          "name": "stdout",
          "text": [
            "$2,068,965.52\n"
          ]
        }
      ]
    },
    {
      "cell_type": "code",
      "execution_count": 303,
      "metadata": {
        "colab": {
          "base_uri": "https://localhost:8080/"
        },
        "id": "WG2T43K6JP81",
        "outputId": "539bdb0b-71e1-4896-88d8-0052973c0f6f"
      },
      "outputs": [
        {
          "output_type": "stream",
          "name": "stdout",
          "text": [
            "Product Owner :\n"
          ]
        }
      ],
      "source": [
        "# Roles de colaboradores\n",
        "rol_colaborador01 = 'Product Owner'\n",
        "rol_colaborador02 = 'Tech Architect'\n",
        "rol_colaborador03 = 'Project Manager'\n",
        "rol_colaborador04 = 'Data Engineer'\n",
        "rol_colaborador05 = 'Data Scientist'\n",
        "rol_colaborador06 = 'Sr. Developer'\n",
        "rol_colaborador07 = 'Jr. Developer'\n",
        "rol_colaborador08 = 'Tester'\n",
        "rol_antena = 'Antena Labs'\n",
        "rol_imprevistos = 'Imprevistos'\n",
        "print(rol_colaborador01,':')"
      ]
    },
    {
      "cell_type": "code",
      "execution_count": 304,
      "metadata": {
        "colab": {
          "base_uri": "https://localhost:8080/"
        },
        "id": "NcagrylUu8Hi",
        "outputId": "6de253d3-2ac7-4613-c67d-a10b28ec3e4d"
      },
      "outputs": [
        {
          "output_type": "stream",
          "name": "stdout",
          "text": [
            "100 %\n"
          ]
        }
      ],
      "source": [
        "# Input porcentajes por colaborador\n",
        "per_colaborador01 = 13#%\n",
        "per_colaborador02 = 10#%\n",
        "per_colaborador03 = 9#%\n",
        "per_colaborador04 = 8#%\n",
        "per_colaborador05 = 7#%\n",
        "per_colaborador06 = 6#%\n",
        "per_colaborador07 = 4#%\n",
        "per_colaborador08 = 3#%\n",
        "per_antena = 35#%\n",
        "per_imprevistos = 5#%\n",
        "total_per_budget = per_colaborador01 + per_colaborador02 + per_colaborador03 + per_colaborador04 + per_colaborador05 + per_colaborador06 + per_colaborador07 + per_colaborador08 + per_antena + per_imprevistos\n",
        "print(total_per_budget, '%')"
      ]
    },
    {
      "cell_type": "code",
      "execution_count": 305,
      "metadata": {
        "colab": {
          "base_uri": "https://localhost:8080/"
        },
        "id": "7RT4eCzrMiZJ",
        "outputId": "92204b4f-bb1a-4944-82d4-9c8c07501403"
      },
      "outputs": [
        {
          "output_type": "stream",
          "name": "stdout",
          "text": [
            "312000.00\n",
            "Product Owner 13 % del proyecto, se le paga del neto total $ 312000.00\n"
          ]
        }
      ],
      "source": [
        "# Porcentaje del presupuesto total colaborador01\n",
        "percentage_number_to_decimal = per_colaborador01 / 100.0\n",
        "pay_colaborador01 = percentage_number_to_decimal * net_total_budget\n",
        "print(f'{pay_colaborador01:.2f}')\n",
        "print(rol_colaborador01, per_colaborador01, '%', 'del proyecto, se le paga del neto total', '$', f'{pay_colaborador01:.2f}') \n",
        "monthly_rate_colaborador01 = pay_colaborador01 / project_duration_months      "
      ]
    },
    {
      "cell_type": "code",
      "execution_count": 306,
      "metadata": {
        "colab": {
          "base_uri": "https://localhost:8080/"
        },
        "id": "bL4a5VvXzhIs",
        "outputId": "1bd083c6-55cf-4dd8-b57e-184b1f5a5190"
      },
      "outputs": [
        {
          "output_type": "stream",
          "name": "stdout",
          "text": [
            "Tech Architect 10 % del proyecto, se le paga del neto total $ 240000.00\n"
          ]
        }
      ],
      "source": [
        "# Porcentaje del presupuesto total por colaborador02\n",
        "percentage_number_to_decimal = per_colaborador02 / 100.0\n",
        "pay_colaborador02 = percentage_number_to_decimal * net_total_budget\n",
        "print(rol_colaborador02, per_colaborador02, '%', 'del proyecto, se le paga del neto total', '$', f'{pay_colaborador02:.2f}')\n",
        "monthly_rate_colaborador02 = pay_colaborador02 / project_duration_months     "
      ]
    },
    {
      "cell_type": "code",
      "execution_count": 307,
      "metadata": {
        "colab": {
          "base_uri": "https://localhost:8080/"
        },
        "id": "bmtJNh7R0d4p",
        "outputId": "aafcdfc1-71c9-4054-b687-050bb338917e"
      },
      "outputs": [
        {
          "output_type": "stream",
          "name": "stdout",
          "text": [
            "Project Manager 9 % del proyecto, se le paga del neto total $ 216000.00\n"
          ]
        }
      ],
      "source": [
        "# Porcentaje del presupuesto total por colaborador03\n",
        "percentage_number_to_decimal = per_colaborador03 / 100.0\n",
        "pay_colaborador03 = percentage_number_to_decimal * net_total_budget\n",
        "print(rol_colaborador03, per_colaborador03, '%', 'del proyecto, se le paga del neto total', '$', f'{pay_colaborador03:.2f}') \n",
        "monthly_rate_colaborador03 = pay_colaborador03 / project_duration_months    "
      ]
    },
    {
      "cell_type": "code",
      "execution_count": 308,
      "metadata": {
        "colab": {
          "base_uri": "https://localhost:8080/"
        },
        "id": "M0Lsdj-4PIuJ",
        "outputId": "2eefb836-0570-450b-da82-bfd45b430096"
      },
      "outputs": [
        {
          "output_type": "stream",
          "name": "stdout",
          "text": [
            "Data Engineer 8 % del proyecto, se le paga del neto total $ 192000.00\n"
          ]
        }
      ],
      "source": [
        "# Porcentaje del presupuesto total por colaborador04\n",
        "percentage_number_to_decimal = per_colaborador04 / 100.0\n",
        "pay_colaborador04 = percentage_number_to_decimal * net_total_budget\n",
        "print(rol_colaborador04, per_colaborador04, '%', 'del proyecto, se le paga del neto total', '$', f'{pay_colaborador04:.2f}') \n",
        "monthly_rate_colaborador04 = pay_colaborador04 / project_duration_months    "
      ]
    },
    {
      "cell_type": "code",
      "execution_count": 309,
      "metadata": {
        "colab": {
          "base_uri": "https://localhost:8080/"
        },
        "id": "Tx36zmY0Px2F",
        "outputId": "710e3ff6-7fc8-499c-ffeb-530ec04a1c67"
      },
      "outputs": [
        {
          "output_type": "stream",
          "name": "stdout",
          "text": [
            "Data Scientist 7 % del proyecto, se le paga del neto total $ 168000.00\n"
          ]
        }
      ],
      "source": [
        "# Porcentaje del presupuesto total por colaborador05\n",
        "percentage_number_to_decimal = per_colaborador05 / 100.0\n",
        "pay_colaborador05 = percentage_number_to_decimal * net_total_budget\n",
        "print(rol_colaborador05, per_colaborador05, '%', 'del proyecto, se le paga del neto total', '$', f'{pay_colaborador05:.2f}')\n",
        "monthly_rate_colaborador05 = pay_colaborador05 / project_duration_months     "
      ]
    },
    {
      "cell_type": "code",
      "execution_count": 310,
      "metadata": {
        "colab": {
          "base_uri": "https://localhost:8080/"
        },
        "id": "kAkLurCDP6nF",
        "outputId": "e243c1a9-644a-4c59-e9b1-49dcd5321065"
      },
      "outputs": [
        {
          "output_type": "stream",
          "name": "stdout",
          "text": [
            "Sr. Developer 6 % del proyecto, se le paga del neto total $ 144000.00\n"
          ]
        }
      ],
      "source": [
        "# Porcentaje del presupuesto total por colaborador06\n",
        "percentage_number_to_decimal = per_colaborador06 / 100.0\n",
        "pay_colaborador06 = percentage_number_to_decimal * net_total_budget\n",
        "round(pay_colaborador06, 2)\n",
        "print(rol_colaborador06, per_colaborador06, '%', 'del proyecto, se le paga del neto total', '$', f'{pay_colaborador06:.2f}') \n",
        "monthly_rate_colaborador06 = pay_colaborador06 / project_duration_months    "
      ]
    },
    {
      "cell_type": "code",
      "execution_count": 311,
      "metadata": {
        "colab": {
          "base_uri": "https://localhost:8080/"
        },
        "id": "b0p6LoF5QAwS",
        "outputId": "692cccd9-f751-4ab6-ac73-689664fcd4b4"
      },
      "outputs": [
        {
          "output_type": "stream",
          "name": "stdout",
          "text": [
            "Jr. Developer 4 % del proyecto, se le paga del neto total $ 96000.00\n"
          ]
        }
      ],
      "source": [
        "# Porcentaje del presupuesto total por colaborador07\n",
        "percentage_number_to_decimal = per_colaborador07 / 100.0\n",
        "pay_colaborador07 = percentage_number_to_decimal * net_total_budget\n",
        "print(rol_colaborador07, per_colaborador07, '%', 'del proyecto, se le paga del neto total', '$', f'{pay_colaborador07:.2f}')\n",
        "monthly_rate_colaborador07 = pay_colaborador07 / project_duration_months     "
      ]
    },
    {
      "cell_type": "code",
      "execution_count": 312,
      "metadata": {
        "colab": {
          "base_uri": "https://localhost:8080/"
        },
        "id": "r_-ej7NbQKwb",
        "outputId": "54942775-f42d-41ea-c677-6fcba700f1c7"
      },
      "outputs": [
        {
          "output_type": "stream",
          "name": "stdout",
          "text": [
            "Tester 3 % del proyecto, se le paga del neto total $ 72000.00\n"
          ]
        }
      ],
      "source": [
        "# Porcentaje del presupuesto total por colaborador08\n",
        "percentage_number_to_decimal = per_colaborador08 / 100.0\n",
        "pay_colaborador08 = percentage_number_to_decimal * net_total_budget\n",
        "print(rol_colaborador08, per_colaborador08, '%', 'del proyecto, se le paga del neto total', '$', f'{pay_colaborador08:.2f}') \n",
        "monthly_rate_colaborador08 = pay_colaborador08 / project_duration_months    "
      ]
    },
    {
      "cell_type": "code",
      "execution_count": 313,
      "metadata": {
        "colab": {
          "base_uri": "https://localhost:8080/"
        },
        "id": "t7e4FHiPQSQd",
        "outputId": "17cd0af1-1ab3-40d4-9d3a-5ba7b0c69321"
      },
      "outputs": [
        {
          "output_type": "stream",
          "name": "stdout",
          "text": [
            "Antena Labs 35 % del proyecto, se le paga del neto total $ 840000.00\n"
          ]
        }
      ],
      "source": [
        "# Porcentaje del presupuesto total para Antena Labs\n",
        "percentage_number_to_decimal = per_antena / 100.0\n",
        "pay_antena = percentage_number_to_decimal * net_total_budget\n",
        "print(rol_antena, per_antena, '%', 'del proyecto, se le paga del neto total', '$', f'{pay_antena:.2f}')\n",
        "monthly_rate_antena = pay_antena / project_duration_months     "
      ]
    },
    {
      "cell_type": "code",
      "execution_count": 314,
      "metadata": {
        "colab": {
          "base_uri": "https://localhost:8080/"
        },
        "id": "RAMHo9t3Qjr8",
        "outputId": "f01827e4-6fa5-44e8-8c5a-50657ba984ff"
      },
      "outputs": [
        {
          "output_type": "stream",
          "name": "stdout",
          "text": [
            "Imprevistos 5 % del proyecto, se le paga del neto total $ 120000.00\n"
          ]
        }
      ],
      "source": [
        "# Porcentaje del presupuesto total para imprevistos\n",
        "percentage_number_to_decimal = per_imprevistos / 100.0\n",
        "pay_imprevistos = percentage_number_to_decimal * net_total_budget\n",
        "print(rol_imprevistos, per_imprevistos, '%', 'del proyecto, se le paga del neto total', '$', f'{pay_imprevistos:.2f}')    \n",
        "monthly_rate_imprevistos = pay_imprevistos / project_duration_months     "
      ]
    },
    {
      "cell_type": "code",
      "source": [
        "sum_salarios_colaboradores = pay_colaborador01 + pay_colaborador02 + pay_colaborador03 + pay_colaborador04 + pay_colaborador05 + pay_colaborador06 + pay_colaborador07 + pay_colaborador08 + pay_antena + pay_imprevistos\n",
        "print(f'{sum_salarios_colaboradores}')"
      ],
      "metadata": {
        "colab": {
          "base_uri": "https://localhost:8080/"
        },
        "id": "DryT5ytUb6tk",
        "outputId": "20eee2fb-52a6-41e4-c147-56bd238967ac"
      },
      "execution_count": 315,
      "outputs": [
        {
          "output_type": "stream",
          "name": "stdout",
          "text": [
            "2400000.0032\n"
          ]
        }
      ]
    },
    {
      "cell_type": "code",
      "execution_count": 316,
      "metadata": {
        "colab": {
          "base_uri": "https://localhost:8080/"
        },
        "id": "NE2yOx8zQwro",
        "outputId": "47820353-6f63-413c-83ce-4d3a46379716"
      },
      "outputs": [
        {
          "output_type": "stream",
          "name": "stdout",
          "text": [
            "Product Owner 13 % del proyecto, se le paga del neto total $ 312000.00 en 12 mensualidades de $ 26000.00\n",
            "Tech Architect 10 % del proyecto, se le paga del neto total $ 240000.00 en 12 mensualidades de $ 20000.00\n",
            "Project Manager 9 % del proyecto, se le paga del neto total $ 216000.00 en 12 mensualidades de $ 18000.00\n",
            "Data Engineer 8 % del proyecto, se le paga del neto total $ 192000.00 en 12 mensualidades de $ 16000.00\n",
            "Data Scientist 7 % del proyecto, se le paga del neto total $ 168000.00 en 12 mensualidades de $ 14000.00\n",
            "Sr. Developer 6 % del proyecto, se le paga del neto total $ 144000.00 en 12 mensualidades de $ 12000.00\n",
            "Jr. Developer 4 % del proyecto, se le paga del neto total $ 96000.00 en 12 mensualidades de $ 8000.00\n",
            "Tester 3 % del proyecto, se le paga del neto total $ 72000.00 en 12 mensualidades de $ 6000.00\n",
            "Antena Labs 35 % del proyecto, se le paga del neto total $ 840000.00\n",
            "Imprevistos 5 % del proyecto, se le paga a Antena del neto total $ 120000.00\n",
            "Impuestos = $ 331034.4832\n",
            "Suma de todos los salarios: 2400000.0032\n",
            "Total de % presupuesto 100\n",
            "Presupuesto total neto: MXN$ 2400000.0032\n",
            "0.0\n"
          ]
        }
      ],
      "source": [
        "print(rol_colaborador01, per_colaborador01, '%', 'del proyecto, se le paga del neto total', '$', f'{pay_colaborador01:.2f}', 'en', project_duration_months, 'mensualidades de $', f'{monthly_rate_colaborador01:.2f}')\n",
        "print(rol_colaborador02, per_colaborador02, '%', 'del proyecto, se le paga del neto total', '$', f'{pay_colaborador02:.2f}', 'en', project_duration_months, 'mensualidades de $', f'{monthly_rate_colaborador02:.2f}')\n",
        "print(rol_colaborador03, per_colaborador03, '%', 'del proyecto, se le paga del neto total', '$', f'{pay_colaborador03:.2f}', 'en', project_duration_months, 'mensualidades de $', f'{monthly_rate_colaborador03:.2f}')\n",
        "print(rol_colaborador04, per_colaborador04, '%', 'del proyecto, se le paga del neto total', '$', f'{pay_colaborador04:.2f}', 'en', project_duration_months, 'mensualidades de $', f'{monthly_rate_colaborador04:.2f}')\n",
        "print(rol_colaborador05, per_colaborador05, '%', 'del proyecto, se le paga del neto total', '$', f'{pay_colaborador05:.2f}', 'en', project_duration_months, 'mensualidades de $', f'{monthly_rate_colaborador05:.2f}')\n",
        "print(rol_colaborador06, per_colaborador06, '%', 'del proyecto, se le paga del neto total', '$', f'{pay_colaborador06:.2f}', 'en', project_duration_months, 'mensualidades de $', f'{monthly_rate_colaborador06:.2f}')\n",
        "print(rol_colaborador07, per_colaborador07, '%', 'del proyecto, se le paga del neto total', '$', f'{pay_colaborador07:.2f}', 'en', project_duration_months, 'mensualidades de $', f'{monthly_rate_colaborador07:.2f}')\n",
        "print(rol_colaborador08, per_colaborador08, '%', 'del proyecto, se le paga del neto total', '$', f'{pay_colaborador08:.2f}', 'en', project_duration_months, 'mensualidades de $', f'{monthly_rate_colaborador08:.2f}')\n",
        "print(rol_antena, per_antena, '%', 'del proyecto, se le paga del neto total', '$', f'{pay_antena:.2f}')\n",
        "print(rol_imprevistos, per_imprevistos, '%', 'del proyecto, se le paga a Antena del neto total', '$', f'{pay_imprevistos:.2f}')\n",
        "print('Impuestos = $', tax_amount)\n",
        "print('Suma de todos los salarios:', sum_salarios_colaboradores)\n",
        "print('Total de % presupuesto', total_per_budget)\n",
        "print('Presupuesto total neto:', 'MXN$', net_total_budget)\n",
        "budget_discrepancy =  sum_salarios_colaboradores - net_total_budget\n",
        "print(budget_discrepancy)"
      ]
    },
    {
      "cell_type": "code",
      "source": [
        "from prettytable import PrettyTable\n",
        "\n",
        "# Hay que cambiar las strings por valores de las variables. \n",
        "# Specify the Column Names while initializing the Table\n",
        "myTable = PrettyTable([\"Rol Colaborador\", \" % \", \"Pagos totales\", \"Mensualidades\", \"No. Months\"])\n",
        " \n",
        "# Add rows\n",
        "myTable.add_row([f\"{rol_colaborador01}\", f\"{per_colaborador01}%\", f\"${pay_colaborador01:,.2f}\", f'${monthly_rate_colaborador01:,.2f}', f'{project_duration_months}'])\n",
        "myTable.add_row([f\"{rol_colaborador02}\", f\"{per_colaborador02}%\", f\"${pay_colaborador02:,.2f}\", f'${monthly_rate_colaborador02:,.2f}', f'{project_duration_months}'])\n",
        "myTable.add_row([f\"{rol_colaborador03}\", f\"{per_colaborador03}%\", f\"${pay_colaborador03:,.2f}\", f'${monthly_rate_colaborador03:,.2f}', f'{project_duration_months}'])\n",
        "myTable.add_row([f\"{rol_colaborador04}\", f\"{per_colaborador04}%\", f\"${pay_colaborador04:,.2f}\", f'${monthly_rate_colaborador04:,.2f}', f'{project_duration_months}'])\n",
        "myTable.add_row([f\"{rol_colaborador05}\", f\"{per_colaborador05}%\", f\"${pay_colaborador05:,.2f}\", f'${monthly_rate_colaborador05:,.2f}', f'{project_duration_months}'])\n",
        "myTable.add_row([f\"{rol_colaborador06}\", f\"{per_colaborador06}%\", f\"${pay_colaborador06:,.2f}\", f'${monthly_rate_colaborador06:,.2f}', f'{project_duration_months}'])\n",
        "myTable.add_row([f\"{rol_colaborador07}\", f\"{per_colaborador07}%\", f\"${pay_colaborador07:,.2f}\", f'${monthly_rate_colaborador07:,.2f}', f'{project_duration_months}'])\n",
        "myTable.add_row([f\"{rol_antena}\", f\"{per_antena}%\", f\"${pay_antena:,.2f}\", f'${monthly_rate_antena:,.2f}', f'{project_duration_months}'])\n",
        "myTable.add_row([f\"{rol_imprevistos}\", f\"{per_imprevistos}%\", f\"${pay_imprevistos:,.2f}\", f'${monthly_rate_imprevistos:,.2f}', f'{project_duration_months}'])\n",
        "myTable.add_row([f\"{'TOTAL'}\", f\"{total_per_budget:,.2f}%\", f\"${sum_salarios_colaboradores:,.2f}\", f'${net_monthly_budget:,.2f}', f'{project_duration_months}'])\n",
        "\n",
        "print(myTable)\n",
        "\n",
        "if net_total_budget == sum_salarios_colaboradores:\n",
        "  print('En presupuesto justo')\n",
        "elif net_total_budget > sum_salarios_colaboradores:\n",
        "    print('Debajo de presupuesto por:$', budget_discrepancy)\n",
        "elif net_total_budget < sum_salarios_colaboradores:\n",
        "    print('Sobrepasa el presupuesto por:               $', budget_discrepancy)\n",
        "\n",
        "print('Presupuesto total:           $', f'{net_total_budget:,.2f}')\n"
      ],
      "metadata": {
        "id": "CRFLY2-eG617",
        "colab": {
          "base_uri": "https://localhost:8080/"
        },
        "outputId": "40621a5e-cd6e-4e78-fbf5-e8690b1185f5"
      },
      "execution_count": 328,
      "outputs": [
        {
          "output_type": "stream",
          "name": "stdout",
          "text": [
            "+-----------------+---------+---------------+---------------+------------+\n",
            "| Rol Colaborador |    %    | Pagos totales | Mensualidades | No. Months |\n",
            "+-----------------+---------+---------------+---------------+------------+\n",
            "|  Product Owner  |   13%   |  $312,000.00  |   $26,000.00  |     12     |\n",
            "|  Tech Architect |   10%   |  $240,000.00  |   $20,000.00  |     12     |\n",
            "| Project Manager |    9%   |  $216,000.00  |   $18,000.00  |     12     |\n",
            "|  Data Engineer  |    8%   |  $192,000.00  |   $16,000.00  |     12     |\n",
            "|  Data Scientist |    7%   |  $168,000.00  |   $14,000.00  |     12     |\n",
            "|  Sr. Developer  |    6%   |  $144,000.00  |   $12,000.00  |     12     |\n",
            "|  Jr. Developer  |    4%   |   $96,000.00  |   $8,000.00   |     12     |\n",
            "|   Antena Labs   |   35%   |  $840,000.00  |   $70,000.00  |     12     |\n",
            "|   Imprevistos   |    5%   |  $120,000.00  |   $10,000.00  |     12     |\n",
            "|      TOTAL      | 100.00% | $2,400,000.00 |  $200,000.00  |     12     |\n",
            "+-----------------+---------+---------------+---------------+------------+\n",
            "En presupuesto justo\n",
            "Presupuesto total:           $ 2,400,000.00\n"
          ]
        }
      ]
    },
    {
      "cell_type": "code",
      "source": [
        ""
      ],
      "metadata": {
        "id": "O8K2VBPcr7bZ"
      },
      "execution_count": 317,
      "outputs": []
    }
  ],
  "metadata": {
    "colab": {
      "name": "Budget-Team-Calculator.ipynb",
      "provenance": [],
      "collapsed_sections": [],
      "authorship_tag": "ABX9TyPc2pBSkUZXrZONv4mY2wjc",
      "include_colab_link": true
    },
    "kernelspec": {
      "display_name": "Python 3",
      "name": "python3"
    },
    "language_info": {
      "name": "python"
    }
  },
  "nbformat": 4,
  "nbformat_minor": 0
}