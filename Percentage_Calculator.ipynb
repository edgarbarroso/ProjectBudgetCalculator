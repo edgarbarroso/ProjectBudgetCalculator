{
  "nbformat": 4,
  "nbformat_minor": 0,
  "metadata": {
    "colab": {
      "name": "Percentage-Calculator.ipynb",
      "provenance": [],
      "authorship_tag": "ABX9TyPqmBc6r1Xrm/5Vpa4WVIYV",
      "include_colab_link": true
    },
    "kernelspec": {
      "name": "python3",
      "display_name": "Python 3"
    },
    "language_info": {
      "name": "python"
    }
  },
  "cells": [
    {
      "cell_type": "markdown",
      "metadata": {
        "id": "view-in-github",
        "colab_type": "text"
      },
      "source": [
        "<a href=\"https://colab.research.google.com/github/edgarbarroso/ProjectBudgetCalculator/blob/main/Percentage_Calculator.ipynb\" target=\"_parent\"><img src=\"https://colab.research.google.com/assets/colab-badge.svg\" alt=\"Open In Colab\"/></a>"
      ]
    },
    {
      "cell_type": "markdown",
      "source": [
        "What is x % of y?"
      ],
      "metadata": {
        "id": "1NHK0KNfZGan"
      }
    },
    {
      "cell_type": "code",
      "source": [
        "x = 20.0 \n",
        "y = 1000.0\n",
        "percentage_number_to_decimal = x / 100.0\n",
        "result = percentage_number_to_decimal * y \n",
        "print('$', result)     "
      ],
      "metadata": {
        "colab": {
          "base_uri": "https://localhost:8080/"
        },
        "id": "2ZvY3ASCZRG9",
        "outputId": "094a3240-03f3-459e-f8dc-09ec4adcbdc0"
      },
      "execution_count": 19,
      "outputs": [
        {
          "output_type": "stream",
          "name": "stdout",
          "text": [
            "$ 200.0\n"
          ]
        }
      ]
    },
    {
      "cell_type": "markdown",
      "source": [
        "The number x is what percentage of y?"
      ],
      "metadata": {
        "id": "GAlAKACVZT5H"
      }
    },
    {
      "cell_type": "code",
      "source": [
        "x = 20.0 # es qué porcentaje de: \n",
        "y = 100.0\n",
        "percentage_number_to_decimal = x / 100.0 \n",
        "result = percentage_number_to_decimal * 100\n",
        "print(result, '%')"
      ],
      "metadata": {
        "colab": {
          "base_uri": "https://localhost:8080/"
        },
        "id": "-L1iX_8sZEEM",
        "outputId": "10d321a5-25a2-4313-8804-ce6f3df6557a"
      },
      "execution_count": null,
      "outputs": [
        {
          "output_type": "stream",
          "name": "stdout",
          "text": [
            "20.0 %\n"
          ]
        }
      ]
    },
    {
      "cell_type": "markdown",
      "source": [
        "The number x is what x % of what number?"
      ],
      "metadata": {
        "id": "BsgLW9p0ZZJz"
      }
    },
    {
      "cell_type": "code",
      "source": [
        "x = 20.0\n",
        "percentage = 100.0\n",
        "percentage_number_to_decimal = percentage / 100.0\n",
        "result = x/percentage_number_to_decimal \n",
        "print(result, '%')"
      ],
      "metadata": {
        "colab": {
          "base_uri": "https://localhost:8080/"
        },
        "id": "JS-hiTxtf5Vk",
        "outputId": "54b5f98f-592e-4dc7-b50b-2805a87421c1"
      },
      "execution_count": 17,
      "outputs": [
        {
          "output_type": "stream",
          "name": "stdout",
          "text": [
            "20.0 %\n"
          ]
        }
      ]
    },
    {
      "cell_type": "markdown",
      "source": [
        "What is the percentage increase from x to y?"
      ],
      "metadata": {
        "id": "Vh4vmGe1A496"
      }
    },
    {
      "cell_type": "code",
      "source": [
        "x = 100\n",
        "y = 120\n",
        "percentage_increase_decrease = y - x / x * 100\n",
        "print(percentage_increase_decrease, \"%\")"
      ],
      "metadata": {
        "id": "ITs7ZEmbgip4",
        "colab": {
          "base_uri": "https://localhost:8080/"
        },
        "outputId": "ba2526ed-8fff-4809-b270-b3e852deab59"
      },
      "execution_count": 15,
      "outputs": [
        {
          "output_type": "stream",
          "name": "stdout",
          "text": [
            "20.0 %\n"
          ]
        }
      ]
    }
  ]
}