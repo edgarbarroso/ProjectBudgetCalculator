{
  "cells": [
    {
      "cell_type": "markdown",
      "metadata": {
        "id": "view-in-github",
        "colab_type": "text"
      },
      "source": [
        "<a href=\"https://colab.research.google.com/github/edgarbarroso/ProjectBudgetCalculator/blob/main/Presupuesto_Calculador.ipynb\" target=\"_parent\"><img src=\"https://colab.research.google.com/assets/colab-badge.svg\" alt=\"Open In Colab\"/></a>"
      ]
    },
    {
      "cell_type": "markdown",
      "metadata": {
        "id": "0WAxE_SWu828"
      },
      "source": [
        "Colaboradores"
      ]
    },
    {
      "cell_type": "code",
      "execution_count": null,
      "metadata": {
        "colab": {
          "base_uri": "https://localhost:8080/"
        },
        "id": "i1-FrFYw-lB_",
        "outputId": "23e61393-f117-47cb-9215-1a197637b154"
      },
      "outputs": [
        {
          "output_type": "stream",
          "name": "stdout",
          "text": [
            "$ 0.0 de impuestos\n",
            "Este es el total del presupuesto IVA incluido $ 0.0\n"
          ]
        }
      ],
      "source": [
        "# Total del presupuesto\n",
        "gross_total_budget = 0\n",
        "net_total_budget = 2400000\n",
        "tax_rate = .16\n",
        "tax_amount = gross_total_budget * tax_rate\n",
        "tax_divider = 1.16\n",
        "project_duration_months = 3\n",
        "print('$', tax_amount, 'de impuestos')\n",
        "net_total_budget = gross_total_budget + tax_amount\n",
        "print('Este es el total del presupuesto IVA incluido', '$', net_total_budget)\n",
        "gross_total_budget = net_total_budget/tax_divider"
      ]
    },
    {
      "cell_type": "code",
      "execution_count": null,
      "metadata": {
        "colab": {
          "base_uri": "https://localhost:8080/"
        },
        "id": "WG2T43K6JP81",
        "outputId": "5b032097-f55c-4cb3-e322-f3df4f267a1b"
      },
      "outputs": [
        {
          "output_type": "stream",
          "name": "stdout",
          "text": [
            "Product Owner :\n"
          ]
        }
      ],
      "source": [
        "# Roles de colaboradores\n",
        "rol_colaborador01 = 'Product Owner'\n",
        "rol_colaborador02 = 'Tech Architect'\n",
        "rol_colaborador03 = 'Project Manager'\n",
        "rol_colaborador04 = 'Data Engineer'\n",
        "rol_colaborador05 = 'Data Scientist'\n",
        "rol_colaborador06 = 'Sr. Developer'\n",
        "rol_colaborador07 = 'Jr. Developer'\n",
        "rol_colaborador08 = 'Tester'\n",
        "rol_antena = 'Antena Labs'\n",
        "rol_imprevistos = 'Imprevistos'\n",
        "print(rol_colaborador01,':')"
      ]
    },
    {
      "cell_type": "code",
      "execution_count": null,
      "metadata": {
        "colab": {
          "base_uri": "https://localhost:8080/"
        },
        "id": "NcagrylUu8Hi",
        "outputId": "5f47b622-f9ea-4e3f-e3e6-8f8142aa7837"
      },
      "outputs": [
        {
          "output_type": "stream",
          "name": "stdout",
          "text": [
            "(100, '%')\n"
          ]
        }
      ],
      "source": [
        "# Input porcentajes por colaborador\n",
        "per_colaborador01 = 21\n",
        "per_colaborador02 = 13\n",
        "per_colaborador03 = 13\n",
        "per_colaborador04 = 13\n",
        "per_colaborador05 = 0\n",
        "per_colaborador06 = 0\n",
        "per_colaborador07 = 0\n",
        "per_colaborador08 = 0\n",
        "per_antena = 35\n",
        "per_imprevistos = 5\n",
        "total_per_budget = (per_colaborador01 + per_colaborador02 + per_colaborador03 \n",
        "                    + per_colaborador04 + per_colaborador05 + \n",
        "                    per_colaborador06 + per_colaborador07 + \n",
        "             per_colaborador08 + per_antena + per_imprevistos, '%')\n",
        "print(total_per_budget)"
      ]
    },
    {
      "cell_type": "code",
      "execution_count": null,
      "metadata": {
        "colab": {
          "base_uri": "https://localhost:8080/"
        },
        "id": "7RT4eCzrMiZJ",
        "outputId": "2ccbf5a3-bcea-4367-9169-198da09ecf87"
      },
      "outputs": [
        {
          "output_type": "stream",
          "name": "stdout",
          "text": [
            "Product Owner 21 % del proyecto, se le paga del neto total $ 91350.0\n"
          ]
        }
      ],
      "source": [
        "# Porcentaje del presupuesto total colaborador01\n",
        "percentage_number_to_decimal = per_colaborador01 / 100.0\n",
        "pay_colaborador01 = percentage_number_to_decimal * net_total_budget\n",
        "print(rol_colaborador01, per_colaborador01, '%', 'del proyecto, se le paga del neto total', '$', pay_colaborador01) \n",
        "monthly_rate_colaborador01 = pay_colaborador01 / project_duration_months      "
      ]
    },
    {
      "cell_type": "code",
      "execution_count": null,
      "metadata": {
        "colab": {
          "base_uri": "https://localhost:8080/"
        },
        "id": "bL4a5VvXzhIs",
        "outputId": "421db54c-30e1-45a6-9d80-6da6fe7f62a5"
      },
      "outputs": [
        {
          "output_type": "stream",
          "name": "stdout",
          "text": [
            "Tech Architect 13 % del proyecto, se le paga del neto total $ 56550.0\n"
          ]
        }
      ],
      "source": [
        "# Porcentaje del presupuesto total por colaborador02\n",
        "percentage_number_to_decimal = per_colaborador02 / 100.0\n",
        "pay_colaborador02 = percentage_number_to_decimal * net_total_budget\n",
        "print(rol_colaborador02, per_colaborador02, '%', 'del proyecto, se le paga del neto total', '$', pay_colaborador02)\n",
        "monthly_rate_colaborador02 = pay_colaborador01 / project_duration_months     "
      ]
    },
    {
      "cell_type": "code",
      "execution_count": null,
      "metadata": {
        "colab": {
          "base_uri": "https://localhost:8080/"
        },
        "id": "bmtJNh7R0d4p",
        "outputId": "b204fa1a-8354-4e41-e1c7-67d0216fd04a"
      },
      "outputs": [
        {
          "output_type": "stream",
          "name": "stdout",
          "text": [
            "Project Manager 13 % del proyecto, se le paga del neto total $ 56550.0\n"
          ]
        }
      ],
      "source": [
        "# Porcentaje del presupuesto total por colaborador03\n",
        "percentage_number_to_decimal = per_colaborador03 / 100.0\n",
        "pay_colaborador03 = percentage_number_to_decimal * net_total_budget\n",
        "print(rol_colaborador03, per_colaborador03, '%', 'del proyecto, se le paga del neto total', '$', pay_colaborador03) \n",
        "monthly_rate_colaborador03 = pay_colaborador01 / project_duration_months    "
      ]
    },
    {
      "cell_type": "code",
      "execution_count": null,
      "metadata": {
        "colab": {
          "base_uri": "https://localhost:8080/"
        },
        "id": "M0Lsdj-4PIuJ",
        "outputId": "07419e22-8362-4b2a-c9ef-ac1b68186140"
      },
      "outputs": [
        {
          "output_type": "stream",
          "name": "stdout",
          "text": [
            "Data Engineer 13 % del proyecto, se le paga del neto total $ 56550.0\n"
          ]
        }
      ],
      "source": [
        "# Porcentaje del presupuesto total por colaborador04\n",
        "percentage_number_to_decimal = per_colaborador04 / 100.0\n",
        "pay_colaborador04 = percentage_number_to_decimal * net_total_budget\n",
        "print(rol_colaborador04, per_colaborador04, '%', 'del proyecto, se le paga del neto total', '$', pay_colaborador04) \n",
        "monthly_rate_colaborador04 = pay_colaborador04 / project_duration_months    "
      ]
    },
    {
      "cell_type": "code",
      "execution_count": null,
      "metadata": {
        "colab": {
          "base_uri": "https://localhost:8080/"
        },
        "id": "Tx36zmY0Px2F",
        "outputId": "c0edae67-b792-42a8-844f-7de291db41ce"
      },
      "outputs": [
        {
          "output_type": "stream",
          "name": "stdout",
          "text": [
            "Data Scientist 0 % del proyecto, se le paga del neto total $ 0.0\n"
          ]
        }
      ],
      "source": [
        "# Porcentaje del presupuesto total por colaborador05\n",
        "percentage_number_to_decimal = per_colaborador05 / 100.0\n",
        "pay_colaborador05 = percentage_number_to_decimal * net_total_budget\n",
        "print(rol_colaborador05, per_colaborador05, '%', 'del proyecto, se le paga del neto total', '$', pay_colaborador05)\n",
        "monthly_rate_colaborador05 = pay_colaborador05 / project_duration_months     "
      ]
    },
    {
      "cell_type": "code",
      "execution_count": null,
      "metadata": {
        "colab": {
          "base_uri": "https://localhost:8080/"
        },
        "id": "kAkLurCDP6nF",
        "outputId": "168d287d-e19d-4ea8-b823-4061bdc7dc9b"
      },
      "outputs": [
        {
          "output_type": "stream",
          "name": "stdout",
          "text": [
            "Sr. Developer 0 % del proyecto, se le paga del neto total $ 0.0\n"
          ]
        }
      ],
      "source": [
        "# Porcentaje del presupuesto total por colaborador06\n",
        "percentage_number_to_decimal = per_colaborador06 / 100.0\n",
        "pay_colaborador06 = percentage_number_to_decimal * net_total_budget\n",
        "print(rol_colaborador06, per_colaborador06, '%', 'del proyecto, se le paga del neto total', '$', pay_colaborador06) \n",
        "monthly_rate_colaborador06 = pay_colaborador06 / project_duration_months    "
      ]
    },
    {
      "cell_type": "code",
      "execution_count": null,
      "metadata": {
        "colab": {
          "base_uri": "https://localhost:8080/"
        },
        "id": "b0p6LoF5QAwS",
        "outputId": "a5453da6-9973-4e1d-8d6f-d40f2251867e"
      },
      "outputs": [
        {
          "output_type": "stream",
          "name": "stdout",
          "text": [
            "Jr. Developer 0 % del proyecto, se le paga del neto total $ 0.0\n"
          ]
        }
      ],
      "source": [
        "# Porcentaje del presupuesto total por colaborador07\n",
        "percentage_number_to_decimal = per_colaborador07 / 100.0\n",
        "pay_colaborador07 = percentage_number_to_decimal * net_total_budget\n",
        "print(rol_colaborador07, per_colaborador07, '%', 'del proyecto, se le paga del neto total', '$', pay_colaborador07)\n",
        "monthly_rate_colaborador07 = pay_colaborador07 / project_duration_months     "
      ]
    },
    {
      "cell_type": "code",
      "execution_count": null,
      "metadata": {
        "colab": {
          "base_uri": "https://localhost:8080/"
        },
        "id": "r_-ej7NbQKwb",
        "outputId": "cac015cc-89f7-4627-f025-77d0b009d7c9"
      },
      "outputs": [
        {
          "output_type": "stream",
          "name": "stdout",
          "text": [
            "Tester 0 % del proyecto, se le paga del neto total $ 0.0\n"
          ]
        }
      ],
      "source": [
        "# Porcentaje del presupuesto total por colaborador08\n",
        "percentage_number_to_decimal = per_colaborador08 / 100.0\n",
        "pay_colaborador08 = percentage_number_to_decimal * net_total_budget\n",
        "print(rol_colaborador08, per_colaborador08, '%', 'del proyecto, se le paga del neto total', '$', pay_colaborador08) \n",
        "monthly_rate_colaborador08 = pay_colaborador08 / project_duration_months    "
      ]
    },
    {
      "cell_type": "code",
      "execution_count": null,
      "metadata": {
        "colab": {
          "base_uri": "https://localhost:8080/"
        },
        "id": "t7e4FHiPQSQd",
        "outputId": "4fe47152-2937-405c-ed27-c2d610ff8dcf"
      },
      "outputs": [
        {
          "output_type": "stream",
          "name": "stdout",
          "text": [
            "Antena Labs 35 % del proyecto, se le paga del neto total $ 152250.0\n"
          ]
        }
      ],
      "source": [
        "# Porcentaje del presupuesto total para Antena Labs\n",
        "percentage_number_to_decimal = per_antena / 100.0\n",
        "pay_antena = percentage_number_to_decimal * net_total_budget\n",
        "print(rol_antena, per_antena, '%', 'del proyecto, se le paga del neto total', '$', pay_antena)\n",
        "monthly_rate_antena = pay_antena / project_duration_months     "
      ]
    },
    {
      "cell_type": "code",
      "execution_count": null,
      "metadata": {
        "colab": {
          "base_uri": "https://localhost:8080/"
        },
        "id": "RAMHo9t3Qjr8",
        "outputId": "f17b538d-a373-4fba-ef05-7020373c3ad2"
      },
      "outputs": [
        {
          "output_type": "stream",
          "name": "stdout",
          "text": [
            "Imprevistos 5 % del proyecto, se le paga del neto total $ 21750.0\n"
          ]
        }
      ],
      "source": [
        "# Porcentaje del presupuesto total para imprevistos\n",
        "percentage_number_to_decimal = per_imprevistos / 100.0\n",
        "pay_imprevistos = percentage_number_to_decimal * net_total_budget\n",
        "print(rol_imprevistos, per_imprevistos, '%', 'del proyecto, se le paga del neto total', '$', pay_imprevistos)    \n",
        "monthly_rate_imprevistos = pay_imprevistos / project_duration_months     "
      ]
    },
    {
      "cell_type": "code",
      "execution_count": null,
      "metadata": {
        "colab": {
          "base_uri": "https://localhost:8080/"
        },
        "id": "NE2yOx8zQwro",
        "outputId": "274d1aa7-99cd-425f-d1f9-33555fac6322"
      },
      "outputs": [
        {
          "output_type": "stream",
          "name": "stdout",
          "text": [
            "Product Owner 21 % del proyecto, se le paga del neto total $ 91350.0 en 3 en mensualidades de 30450.0\n",
            "Tech Architect 13 % del proyecto, se le paga del neto total $ 56550.0 en 3 en mensualidades de 30450.0\n",
            "Project Manager 13 % del proyecto, se le paga del neto total $ 56550.0 en 3 en mensualidades de 30450.0\n",
            "Data Engineer 13 % del proyecto, se le paga del neto total $ 56550.0 en 3 en mensualidades de 18850.0\n",
            "Data Scientist 0 % del proyecto, se le paga del neto total $ 0.0 en 3 en mensualidades de 0.0\n",
            "Sr. Developer 0 % del proyecto, se le paga del neto total $ 0.0 en 3 en mensualidades de 0.0\n",
            "Jr. Developer 0 % del proyecto, se le paga del neto total $ 0.0 en 3 en mensualidades de 0.0\n",
            "Tester 0 % del proyecto, se le paga del neto total $ 0.0 en 3 en mensualidades de 0.0\n",
            "Antena Labs 35 % del proyecto, se le paga del neto total $ 152250.0\n",
            "Imprevistos 5 % del proyecto, se le paga a Antena del neto total $ 21750.0\n",
            "Impuestos = $ 60000.0\n",
            "Total de presupuesto (100, '%')\n",
            "Presupuesto total neto: MXN$ 435000.0\n"
          ]
        }
      ],
      "source": [
        "print(rol_colaborador01, per_colaborador01, '%', 'del proyecto, se le paga del neto total', '$', pay_colaborador01, 'en', project_duration_months, 'en mensualidades de', monthly_rate_colaborador01)\n",
        "print(rol_colaborador02, per_colaborador02, '%', 'del proyecto, se le paga del neto total', '$', pay_colaborador02, 'en', project_duration_months, 'en mensualidades de', monthly_rate_colaborador02)\n",
        "print(rol_colaborador03, per_colaborador03, '%', 'del proyecto, se le paga del neto total', '$', pay_colaborador03, 'en', project_duration_months, 'en mensualidades de', monthly_rate_colaborador03)\n",
        "print(rol_colaborador04, per_colaborador04, '%', 'del proyecto, se le paga del neto total', '$', pay_colaborador04, 'en', project_duration_months, 'en mensualidades de', monthly_rate_colaborador04)\n",
        "print(rol_colaborador05, per_colaborador05, '%', 'del proyecto, se le paga del neto total', '$', pay_colaborador05, 'en', project_duration_months, 'en mensualidades de', monthly_rate_colaborador05)\n",
        "print(rol_colaborador06, per_colaborador06, '%', 'del proyecto, se le paga del neto total', '$', pay_colaborador06, 'en', project_duration_months, 'en mensualidades de', monthly_rate_colaborador06)\n",
        "print(rol_colaborador07, per_colaborador07, '%', 'del proyecto, se le paga del neto total', '$', pay_colaborador07, 'en', project_duration_months, 'en mensualidades de', monthly_rate_colaborador07)\n",
        "print(rol_colaborador08, per_colaborador08, '%', 'del proyecto, se le paga del neto total', '$', pay_colaborador08, 'en', project_duration_months, 'en mensualidades de', monthly_rate_colaborador08)\n",
        "print(rol_antena, per_antena, '%', 'del proyecto, se le paga del neto total', '$', pay_antena)\n",
        "print(rol_imprevistos, per_imprevistos, '%', 'del proyecto, se le paga a Antena del neto total', '$', pay_imprevistos)\n",
        "print('Impuestos = $', tax_amount)\n",
        "print('Total de presupuesto', total_per_budget)\n",
        "print('Presupuesto total neto:', 'MXN$', net_total_budget)"
      ]
    },
    {
      "cell_type": "code",
      "execution_count": null,
      "metadata": {
        "id": "cbiBC6AdZPKS"
      },
      "outputs": [],
      "source": [
        ""
      ]
    }
  ],
  "metadata": {
    "colab": {
      "name": "Presupuesto_Simple.ipynb",
      "provenance": [],
      "authorship_tag": "ABX9TyNMlAG6+8+AE0ncGBnAF3VE",
      "include_colab_link": true
    },
    "kernelspec": {
      "display_name": "Python 3",
      "name": "python3"
    },
    "language_info": {
      "name": "python"
    }
  },
  "nbformat": 4,
  "nbformat_minor": 0
}