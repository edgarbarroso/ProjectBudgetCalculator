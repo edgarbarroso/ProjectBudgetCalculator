{
  "cells": [
    {
      "cell_type": "markdown",
      "metadata": {
        "id": "view-in-github",
        "colab_type": "text"
      },
      "source": [
        "<a href=\"https://colab.research.google.com/github/edgarbarroso/ProjectBudgetCalculator/blob/main/myfirstnotebook2.ipynb\" target=\"_parent\"><img src=\"https://colab.research.google.com/assets/colab-badge.svg\" alt=\"Open In Colab\"/></a>"
      ]
    },
    {
      "cell_type": "code",
      "execution_count": null,
      "id": "86fb4c7e",
      "metadata": {
        "id": "86fb4c7e",
        "outputId": "54d81614-7e8d-4fe5-8927-4998f82c28c0"
      },
      "outputs": [
        {
          "name": "stdout",
          "output_type": "stream",
          "text": [
            "hello world\n"
          ]
        }
      ],
      "source": [
        "print('hello world')"
      ]
    },
    {
      "cell_type": "code",
      "execution_count": null,
      "id": "7d3978c4",
      "metadata": {
        "id": "7d3978c4",
        "outputId": "a40a9a83-e9c7-49e0-fafa-acb055d8876e"
      },
      "outputs": [
        {
          "name": "stdout",
          "output_type": "stream",
          "text": [
            "hello 02\n"
          ]
        }
      ],
      "source": [
        "print('hello 02')"
      ]
    },
    {
      "cell_type": "markdown",
      "id": "70dec0be",
      "metadata": {
        "id": "70dec0be"
      },
      "source": [
        "# Esto es un markdown\n",
        "Así puedo ir escribiendo mejor las partes de un paper, por ejemplo."
      ]
    },
    {
      "cell_type": "code",
      "execution_count": null,
      "id": "1b91a095",
      "metadata": {
        "id": "1b91a095",
        "outputId": "7e52ab36-8e32-4efc-dd81-477f8493d661"
      },
      "outputs": [
        {
          "name": "stdout",
          "output_type": "stream",
          "text": [
            "hello 03\n"
          ]
        }
      ],
      "source": [
        "print('hello 03')"
      ]
    },
    {
      "cell_type": "code",
      "execution_count": null,
      "id": "752df514",
      "metadata": {
        "id": "752df514",
        "outputId": "e02bcb8a-a675-47ff-b678-79f1b190215a"
      },
      "outputs": [
        {
          "data": {
            "text/plain": [
              "3"
            ]
          },
          "execution_count": 1,
          "metadata": {},
          "output_type": "execute_result"
        }
      ],
      "source": [
        "2+1"
      ]
    },
    {
      "cell_type": "code",
      "execution_count": null,
      "id": "6d7118da",
      "metadata": {
        "id": "6d7118da",
        "outputId": "804f5a9c-ff76-4beb-a4a2-e61c6a163b2f"
      },
      "outputs": [
        {
          "data": {
            "text/plain": [
              "1.5"
            ]
          },
          "execution_count": 2,
          "metadata": {},
          "output_type": "execute_result"
        }
      ],
      "source": [
        "3/2"
      ]
    },
    {
      "cell_type": "markdown",
      "id": "f9f79a95",
      "metadata": {
        "id": "f9f79a95"
      },
      "source": [
        "El % te da el residuo de una división"
      ]
    },
    {
      "cell_type": "code",
      "execution_count": null,
      "id": "7229e2e1",
      "metadata": {
        "id": "7229e2e1",
        "outputId": "300a893d-a9f8-4c32-8e01-7dbca70e222d"
      },
      "outputs": [
        {
          "data": {
            "text/plain": [
              "0"
            ]
          },
          "execution_count": 5,
          "metadata": {},
          "output_type": "execute_result"
        }
      ],
      "source": [
        "50 % 5"
      ]
    },
    {
      "cell_type": "code",
      "execution_count": null,
      "id": "b45b2851",
      "metadata": {
        "id": "b45b2851",
        "outputId": "fc31a779-378f-47f6-f195-5076452da280"
      },
      "outputs": [
        {
          "data": {
            "text/plain": [
              "8"
            ]
          },
          "execution_count": 4,
          "metadata": {},
          "output_type": "execute_result"
        }
      ],
      "source": [
        "  2 ** 3"
      ]
    },
    {
      "cell_type": "markdown",
      "id": "8a6a14f9",
      "metadata": {
        "id": "8a6a14f9"
      },
      "source": [
        "Variables"
      ]
    },
    {
      "cell_type": "code",
      "execution_count": null,
      "id": "e9aa8ce9",
      "metadata": {
        "id": "e9aa8ce9"
      },
      "outputs": [],
      "source": [
        "a = 5"
      ]
    },
    {
      "cell_type": "code",
      "execution_count": null,
      "id": "146b2163",
      "metadata": {
        "id": "146b2163",
        "outputId": "5dd70d4c-6b33-419c-e06b-c572f7307c1d"
      },
      "outputs": [
        {
          "data": {
            "text/plain": [
              "5"
            ]
          },
          "execution_count": 8,
          "metadata": {},
          "output_type": "execute_result"
        }
      ],
      "source": [
        "a"
      ]
    },
    {
      "cell_type": "code",
      "execution_count": null,
      "id": "997570f3",
      "metadata": {
        "id": "997570f3"
      },
      "outputs": [],
      "source": [
        "a = 10"
      ]
    },
    {
      "cell_type": "code",
      "execution_count": null,
      "id": "0cd3b640",
      "metadata": {
        "id": "0cd3b640",
        "outputId": "d0fbf29d-f836-4881-9daf-b5bff410b1ca"
      },
      "outputs": [
        {
          "data": {
            "text/plain": [
              "10"
            ]
          },
          "execution_count": 10,
          "metadata": {},
          "output_type": "execute_result"
        }
      ],
      "source": [
        "a"
      ]
    },
    {
      "cell_type": "code",
      "execution_count": null,
      "id": "e3248fbf",
      "metadata": {
        "id": "e3248fbf",
        "outputId": "2bc57547-6843-4600-bef2-a9234323456f"
      },
      "outputs": [
        {
          "data": {
            "text/plain": [
              "20"
            ]
          },
          "execution_count": 11,
          "metadata": {},
          "output_type": "execute_result"
        }
      ],
      "source": [
        "a + a"
      ]
    },
    {
      "cell_type": "code",
      "execution_count": null,
      "id": "bf6e23e2",
      "metadata": {
        "id": "bf6e23e2",
        "outputId": "4714948e-25f0-4d4d-9d7c-02f59237a45c"
      },
      "outputs": [
        {
          "data": {
            "text/plain": [
              "10"
            ]
          },
          "execution_count": 12,
          "metadata": {},
          "output_type": "execute_result"
        }
      ],
      "source": [
        "a"
      ]
    },
    {
      "cell_type": "code",
      "execution_count": null,
      "id": "a038fd98",
      "metadata": {
        "id": "a038fd98"
      },
      "outputs": [],
      "source": [
        "a = a + a"
      ]
    },
    {
      "cell_type": "code",
      "execution_count": null,
      "id": "fb7c3942",
      "metadata": {
        "id": "fb7c3942",
        "outputId": "6e7e0fa6-0d31-4415-ba56-769633d9fc59"
      },
      "outputs": [
        {
          "data": {
            "text/plain": [
              "20"
            ]
          },
          "execution_count": 14,
          "metadata": {},
          "output_type": "execute_result"
        }
      ],
      "source": [
        "a"
      ]
    },
    {
      "cell_type": "code",
      "execution_count": null,
      "id": "d8c085a7",
      "metadata": {
        "id": "d8c085a7",
        "outputId": "289f7ed4-00a9-40d9-a2bf-8fe9c08adc22"
      },
      "outputs": [
        {
          "data": {
            "text/plain": [
              "int"
            ]
          },
          "execution_count": 15,
          "metadata": {},
          "output_type": "execute_result"
        }
      ],
      "source": [
        "type(a)"
      ]
    },
    {
      "cell_type": "code",
      "execution_count": null,
      "id": "bd30555a",
      "metadata": {
        "id": "bd30555a"
      },
      "outputs": [],
      "source": [
        "a = 10.1"
      ]
    },
    {
      "cell_type": "code",
      "execution_count": null,
      "id": "9dff53d2",
      "metadata": {
        "id": "9dff53d2",
        "outputId": "4c59368e-1b7b-41b0-b4a9-57b50ff411b4"
      },
      "outputs": [
        {
          "data": {
            "text/plain": [
              "float"
            ]
          },
          "execution_count": 17,
          "metadata": {},
          "output_type": "execute_result"
        }
      ],
      "source": [
        "type(a)"
      ]
    },
    {
      "cell_type": "markdown",
      "id": "fbb8b89a",
      "metadata": {
        "id": "fbb8b89a"
      },
      "source": [
        ""
      ]
    },
    {
      "cell_type": "code",
      "execution_count": null,
      "id": "c5d322be",
      "metadata": {
        "id": "c5d322be"
      },
      "outputs": [],
      "source": [
        "my_income_without_taxes = 55000\n",
        "tax_rate = 0.16\n",
        "my_taxes = my_income_without_taxes * tax_rate "
      ]
    },
    {
      "cell_type": "code",
      "execution_count": null,
      "id": "edbc1436",
      "metadata": {
        "id": "edbc1436",
        "outputId": "5fee1999-b293-485a-91e5-d64af606ed3a"
      },
      "outputs": [
        {
          "data": {
            "text/plain": [
              "8800.0"
            ]
          },
          "execution_count": 50,
          "metadata": {},
          "output_type": "execute_result"
        }
      ],
      "source": [
        "my_taxes"
      ]
    },
    {
      "cell_type": "code",
      "execution_count": null,
      "id": "8781b197",
      "metadata": {
        "id": "8781b197"
      },
      "outputs": [],
      "source": [
        "my_net_income = my_income_without_taxes + my_taxes"
      ]
    },
    {
      "cell_type": "code",
      "execution_count": null,
      "id": "d1309e76",
      "metadata": {
        "id": "d1309e76",
        "outputId": "e49fd447-d139-4d6b-8ce2-a525a495262b"
      },
      "outputs": [
        {
          "data": {
            "text/plain": [
              "63800.0"
            ]
          },
          "execution_count": 52,
          "metadata": {},
          "output_type": "execute_result"
        }
      ],
      "source": [
        "my_net_income"
      ]
    },
    {
      "cell_type": "markdown",
      "id": "b0c13618",
      "metadata": {
        "id": "b0c13618"
      },
      "source": [
        "Percentages"
      ]
    },
    {
      "cell_type": "code",
      "execution_count": null,
      "id": "08db9780",
      "metadata": {
        "id": "08db9780"
      },
      "outputs": [],
      "source": [
        "the_percentage = .35\n",
        "the_total = 180000\n",
        "the_percentage_of_the_total_is = the_percentage * the_total"
      ]
    },
    {
      "cell_type": "code",
      "execution_count": null,
      "id": "cc45767b",
      "metadata": {
        "id": "cc45767b",
        "outputId": "32255764-7a40-4329-e179-77a98a9ad12a"
      },
      "outputs": [
        {
          "data": {
            "text/plain": [
              "62999.99999999999"
            ]
          },
          "execution_count": 54,
          "metadata": {},
          "output_type": "execute_result"
        }
      ],
      "source": [
        "the_percentage_of_the_total_is"
      ]
    },
    {
      "cell_type": "code",
      "execution_count": null,
      "id": "81790c99",
      "metadata": {
        "id": "81790c99",
        "outputId": "11f9b973-3641-46df-8e31-47a1760b80a3"
      },
      "outputs": [
        {
          "data": {
            "text/plain": [
              "10079.999999999998"
            ]
          },
          "execution_count": 55,
          "metadata": {},
          "output_type": "execute_result"
        }
      ],
      "source": [
        "the_percentage_of_the_total_is * tax_rate"
      ]
    },
    {
      "cell_type": "code",
      "execution_count": null,
      "id": "70f2cccd",
      "metadata": {
        "id": "70f2cccd"
      },
      "outputs": [],
      "source": [
        "the_total_of_the_invoice_is = the_percentage_of_the_total_is + the_percentage_of_the_total_is * tax_rate"
      ]
    },
    {
      "cell_type": "code",
      "execution_count": null,
      "id": "0eecf13e",
      "metadata": {
        "id": "0eecf13e",
        "outputId": "059355e4-bac3-4361-caa8-f591e4b85873"
      },
      "outputs": [
        {
          "data": {
            "text/plain": [
              "73079.99999999999"
            ]
          },
          "execution_count": 57,
          "metadata": {},
          "output_type": "execute_result"
        }
      ],
      "source": [
        "the_total_of_the_invoice_is"
      ]
    },
    {
      "cell_type": "code",
      "execution_count": null,
      "id": "830b10e1",
      "metadata": {
        "id": "830b10e1",
        "outputId": "c0d8d569-78b6-49d5-9c89-8946e9725db0"
      },
      "outputs": [
        {
          "data": {
            "text/plain": [
              "11969.979999999996"
            ]
          },
          "execution_count": 58,
          "metadata": {},
          "output_type": "execute_result"
        }
      ],
      "source": [
        "85049.98 - 73080"
      ]
    },
    {
      "cell_type": "markdown",
      "id": "ca033411",
      "metadata": {
        "id": "ca033411"
      },
      "source": [
        "Team "
      ]
    }
  ],
  "metadata": {
    "kernelspec": {
      "display_name": "Python 3 (ipykernel)",
      "language": "python",
      "name": "python3"
    },
    "language_info": {
      "codemirror_mode": {
        "name": "ipython",
        "version": 3
      },
      "file_extension": ".py",
      "mimetype": "text/x-python",
      "name": "python",
      "nbconvert_exporter": "python",
      "pygments_lexer": "ipython3",
      "version": "3.9.12"
    },
    "colab": {
      "name": "myfirstnotebook2.ipynb",
      "provenance": [],
      "include_colab_link": true
    }
  },
  "nbformat": 4,
  "nbformat_minor": 5
}