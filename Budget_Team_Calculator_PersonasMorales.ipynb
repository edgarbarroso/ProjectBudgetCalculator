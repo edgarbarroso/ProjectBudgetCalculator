{
  "cells": [
    {
      "cell_type": "markdown",
      "metadata": {
        "id": "view-in-github",
        "colab_type": "text"
      },
      "source": [
        "<a href=\"https://colab.research.google.com/github/edgarbarroso/ProjectBudgetCalculator/blob/main/Budget_Team_Calculator_PersonasMorales.ipynb\" target=\"_parent\"><img src=\"https://colab.research.google.com/assets/colab-badge.svg\" alt=\"Open In Colab\"/></a>"
      ]
    },
    {
      "cell_type": "markdown",
      "metadata": {
        "id": "0WAxE_SWu828"
      },
      "source": [
        "Colaboradores"
      ]
    },
    {
      "cell_type": "code",
      "execution_count": null,
      "metadata": {
        "colab": {
          "base_uri": "https://localhost:8080/"
        },
        "id": "i1-FrFYw-lB_",
        "outputId": "769a46d8-af92-470a-e03b-a35f37d69670"
      },
      "outputs": [
        {
          "output_type": "stream",
          "name": "stdout",
          "text": [
            "$ 254,811.27 de impuestos\n",
            "153,948.47\n",
            "Este es el total del presupuesto IVA incluido $ 1847381.6756\n"
          ]
        }
      ],
      "source": [
        "# Total del presupuesto\n",
        "gross_total_budget = 1592570.41\n",
        "tax_rate = .16\n",
        "tax_amount = gross_total_budget * tax_rate\n",
        "project_duration_months = 12\n",
        "print('$', f'{tax_amount:,.2f}', 'de impuestos')\n",
        "net_total_budget = gross_total_budget + tax_amount\n",
        "net_monthly_budget = net_total_budget/project_duration_months\n",
        "print(f'{net_monthly_budget:,.2f}')\n",
        "print('Este es el total del presupuesto IVA incluido', '$', net_total_budget)"
      ]
    },
    {
      "cell_type": "code",
      "source": [
        "# Cuando sólo se tenga el total neto del proyecto\n",
        "net_total = 2400000.0\n",
        "tax_divider = 1.16\n",
        "gross_total = net_total/tax_divider\n",
        "gross_total * .16\n",
        "gross_total\n",
        "tax_cost = net_total - gross_total\n",
        "gross_total\n",
        "print(f'${gross_total:,.2f}')\n"
      ],
      "metadata": {
        "colab": {
          "base_uri": "https://localhost:8080/"
        },
        "id": "UwM3Me4So5gZ",
        "outputId": "1a03d61d-4997-4a1f-e983-150cb785232e"
      },
      "execution_count": null,
      "outputs": [
        {
          "output_type": "stream",
          "name": "stdout",
          "text": [
            "$2,068,965.52\n"
          ]
        }
      ]
    },
    {
      "cell_type": "code",
      "execution_count": null,
      "metadata": {
        "colab": {
          "base_uri": "https://localhost:8080/"
        },
        "id": "WG2T43K6JP81",
        "outputId": "189c2c72-a176-4761-986e-291379f3cef0"
      },
      "outputs": [
        {
          "output_type": "stream",
          "name": "stdout",
          "text": [
            "Product Owner :\n"
          ]
        }
      ],
      "source": [
        "# Roles de colaboradores\n",
        "rol_colaborador01 = 'Product Owner'\n",
        "rol_colaborador02 = 'Tech Architect'\n",
        "rol_colaborador03 = 'Project Manager'\n",
        "rol_colaborador04 = 'Data Engineer'\n",
        "rol_colaborador05 = 'Data Scientist'\n",
        "rol_colaborador06 = 'Sr. Developer'\n",
        "rol_colaborador07 = 'Jr. Developer'\n",
        "rol_colaborador08 = 'Tester'\n",
        "rol_antena = 'Antena Labs'\n",
        "rol_imprevistos = 'Imprevistos'\n",
        "print(rol_colaborador01,':')"
      ]
    },
    {
      "cell_type": "code",
      "execution_count": null,
      "metadata": {
        "colab": {
          "base_uri": "https://localhost:8080/"
        },
        "id": "NcagrylUu8Hi",
        "outputId": "e96f32a3-4f7b-48e4-c3fd-3f7256a62517"
      },
      "outputs": [
        {
          "output_type": "stream",
          "name": "stdout",
          "text": [
            "100 %\n"
          ]
        }
      ],
      "source": [
        "# Input porcentajes por colaborador\n",
        "per_colaborador01 = 13#%\n",
        "per_colaborador02 = 10#%\n",
        "per_colaborador03 = 9#%\n",
        "per_colaborador04 = 8#%\n",
        "per_colaborador05 = 7#%\n",
        "per_colaborador06 = 6#%\n",
        "per_colaborador07 = 4#%\n",
        "per_colaborador08 = 3#%\n",
        "per_antena = 35#%\n",
        "per_imprevistos = 5#%\n",
        "total_per_budget = per_colaborador01 + per_colaborador02 + per_colaborador03 + per_colaborador04 + per_colaborador05 + per_colaborador06 + per_colaborador07 + per_colaborador08 + per_antena + per_imprevistos\n",
        "print(total_per_budget, '%')"
      ]
    },
    {
      "cell_type": "code",
      "execution_count": null,
      "metadata": {
        "colab": {
          "base_uri": "https://localhost:8080/"
        },
        "id": "7RT4eCzrMiZJ",
        "outputId": "7359b14d-72bb-42e3-c32c-29ed151e0925"
      },
      "outputs": [
        {
          "output_type": "stream",
          "name": "stdout",
          "text": [
            "240159.62\n",
            "Product Owner 13 % del proyecto, se le paga del neto total $ 240159.62\n"
          ]
        }
      ],
      "source": [
        "# Porcentaje del presupuesto total colaborador01\n",
        "percentage_number_to_decimal = per_colaborador01 / 100.0\n",
        "pay_colaborador01 = percentage_number_to_decimal * net_total_budget\n",
        "print(f'{pay_colaborador01:.2f}')\n",
        "print(rol_colaborador01, per_colaborador01, '%', 'del proyecto, se le paga del neto total', '$', f'{pay_colaborador01:.2f}') \n",
        "monthly_rate_colaborador01 = pay_colaborador01 / project_duration_months      "
      ]
    },
    {
      "cell_type": "code",
      "execution_count": null,
      "metadata": {
        "colab": {
          "base_uri": "https://localhost:8080/"
        },
        "id": "bL4a5VvXzhIs",
        "outputId": "2462d162-7308-403c-95af-916083cd6dba"
      },
      "outputs": [
        {
          "output_type": "stream",
          "name": "stdout",
          "text": [
            "Tech Architect 10 % del proyecto, se le paga del neto total $ 184738.17\n"
          ]
        }
      ],
      "source": [
        "# Porcentaje del presupuesto total por colaborador02\n",
        "percentage_number_to_decimal = per_colaborador02 / 100.0\n",
        "pay_colaborador02 = percentage_number_to_decimal * net_total_budget\n",
        "print(rol_colaborador02, per_colaborador02, '%', 'del proyecto, se le paga del neto total', '$', f'{pay_colaborador02:.2f}')\n",
        "monthly_rate_colaborador02 = pay_colaborador02 / project_duration_months     "
      ]
    },
    {
      "cell_type": "code",
      "execution_count": null,
      "metadata": {
        "colab": {
          "base_uri": "https://localhost:8080/"
        },
        "id": "bmtJNh7R0d4p",
        "outputId": "d224d0ab-128d-419f-fded-868f9e7859bf"
      },
      "outputs": [
        {
          "output_type": "stream",
          "name": "stdout",
          "text": [
            "Project Manager 9 % del proyecto, se le paga del neto total $ 166264.35\n"
          ]
        }
      ],
      "source": [
        "# Porcentaje del presupuesto total por colaborador03\n",
        "percentage_number_to_decimal = per_colaborador03 / 100.0\n",
        "pay_colaborador03 = percentage_number_to_decimal * net_total_budget\n",
        "print(rol_colaborador03, per_colaborador03, '%', 'del proyecto, se le paga del neto total', '$', f'{pay_colaborador03:.2f}') \n",
        "monthly_rate_colaborador03 = pay_colaborador03 / project_duration_months    "
      ]
    },
    {
      "cell_type": "code",
      "execution_count": null,
      "metadata": {
        "colab": {
          "base_uri": "https://localhost:8080/"
        },
        "id": "M0Lsdj-4PIuJ",
        "outputId": "315a9b65-f012-40e0-8995-482a9f135c62"
      },
      "outputs": [
        {
          "output_type": "stream",
          "name": "stdout",
          "text": [
            "Data Engineer 8 % del proyecto, se le paga del neto total $ 147790.53\n"
          ]
        }
      ],
      "source": [
        "# Porcentaje del presupuesto total por colaborador04\n",
        "percentage_number_to_decimal = per_colaborador04 / 100.0\n",
        "pay_colaborador04 = percentage_number_to_decimal * net_total_budget\n",
        "print(rol_colaborador04, per_colaborador04, '%', 'del proyecto, se le paga del neto total', '$', f'{pay_colaborador04:.2f}') \n",
        "monthly_rate_colaborador04 = pay_colaborador04 / project_duration_months    "
      ]
    },
    {
      "cell_type": "code",
      "execution_count": null,
      "metadata": {
        "colab": {
          "base_uri": "https://localhost:8080/"
        },
        "id": "Tx36zmY0Px2F",
        "outputId": "c47711e5-e978-4649-b4ec-a6bdde1b0eb5"
      },
      "outputs": [
        {
          "output_type": "stream",
          "name": "stdout",
          "text": [
            "Data Scientist 7 % del proyecto, se le paga del neto total $ 129316.72\n"
          ]
        }
      ],
      "source": [
        "# Porcentaje del presupuesto total por colaborador05\n",
        "percentage_number_to_decimal = per_colaborador05 / 100.0\n",
        "pay_colaborador05 = percentage_number_to_decimal * net_total_budget\n",
        "print(rol_colaborador05, per_colaborador05, '%', 'del proyecto, se le paga del neto total', '$', f'{pay_colaborador05:.2f}')\n",
        "monthly_rate_colaborador05 = pay_colaborador05 / project_duration_months     "
      ]
    },
    {
      "cell_type": "code",
      "execution_count": null,
      "metadata": {
        "colab": {
          "base_uri": "https://localhost:8080/"
        },
        "id": "kAkLurCDP6nF",
        "outputId": "c2ed055d-f11a-4a8b-c6cf-e68402a5801e"
      },
      "outputs": [
        {
          "output_type": "stream",
          "name": "stdout",
          "text": [
            "Sr. Developer 6 % del proyecto, se le paga del neto total $ 110842.90\n"
          ]
        }
      ],
      "source": [
        "# Porcentaje del presupuesto total por colaborador06\n",
        "percentage_number_to_decimal = per_colaborador06 / 100.0\n",
        "pay_colaborador06 = percentage_number_to_decimal * net_total_budget\n",
        "round(pay_colaborador06, 2)\n",
        "print(rol_colaborador06, per_colaborador06, '%', 'del proyecto, se le paga del neto total', '$', f'{pay_colaborador06:.2f}') \n",
        "monthly_rate_colaborador06 = pay_colaborador06 / project_duration_months    "
      ]
    },
    {
      "cell_type": "code",
      "execution_count": null,
      "metadata": {
        "colab": {
          "base_uri": "https://localhost:8080/"
        },
        "id": "b0p6LoF5QAwS",
        "outputId": "1e440973-89b3-482b-b60d-709345001e82"
      },
      "outputs": [
        {
          "output_type": "stream",
          "name": "stdout",
          "text": [
            "Jr. Developer 4 % del proyecto, se le paga del neto total $ 73895.27\n"
          ]
        }
      ],
      "source": [
        "# Porcentaje del presupuesto total por colaborador07\n",
        "percentage_number_to_decimal = per_colaborador07 / 100.0\n",
        "pay_colaborador07 = percentage_number_to_decimal * net_total_budget\n",
        "print(rol_colaborador07, per_colaborador07, '%', 'del proyecto, se le paga del neto total', '$', f'{pay_colaborador07:.2f}')\n",
        "monthly_rate_colaborador07 = pay_colaborador07 / project_duration_months     "
      ]
    },
    {
      "cell_type": "code",
      "execution_count": null,
      "metadata": {
        "colab": {
          "base_uri": "https://localhost:8080/"
        },
        "id": "r_-ej7NbQKwb",
        "outputId": "d69964fd-c856-47f6-ba54-2eb36f1ddc22"
      },
      "outputs": [
        {
          "output_type": "stream",
          "name": "stdout",
          "text": [
            "Tester 3 % del proyecto, se le paga del neto total $ 55421.45\n"
          ]
        }
      ],
      "source": [
        "# Porcentaje del presupuesto total por colaborador08\n",
        "percentage_number_to_decimal = per_colaborador08 / 100.0\n",
        "pay_colaborador08 = percentage_number_to_decimal * net_total_budget\n",
        "print(rol_colaborador08, per_colaborador08, '%', 'del proyecto, se le paga del neto total', '$', f'{pay_colaborador08:.2f}') \n",
        "monthly_rate_colaborador08 = pay_colaborador08 / project_duration_months    "
      ]
    },
    {
      "cell_type": "code",
      "execution_count": null,
      "metadata": {
        "colab": {
          "base_uri": "https://localhost:8080/"
        },
        "id": "t7e4FHiPQSQd",
        "outputId": "7d7bd7b3-ad34-421e-d53e-5c83159285cd"
      },
      "outputs": [
        {
          "output_type": "stream",
          "name": "stdout",
          "text": [
            "Antena Labs 35 % del proyecto, se le paga del neto total $ 646583.59\n"
          ]
        }
      ],
      "source": [
        "# Porcentaje del presupuesto total para Antena Labs\n",
        "percentage_number_to_decimal = per_antena / 100.0\n",
        "pay_antena = percentage_number_to_decimal * net_total_budget\n",
        "print(rol_antena, per_antena, '%', 'del proyecto, se le paga del neto total', '$', f'{pay_antena:.2f}')\n",
        "monthly_rate_antena = pay_antena / project_duration_months     "
      ]
    },
    {
      "cell_type": "code",
      "execution_count": null,
      "metadata": {
        "colab": {
          "base_uri": "https://localhost:8080/"
        },
        "id": "RAMHo9t3Qjr8",
        "outputId": "1511f5a9-11b9-4faa-b708-32565ce66aaf"
      },
      "outputs": [
        {
          "output_type": "stream",
          "name": "stdout",
          "text": [
            "Imprevistos 5 % del proyecto, se le paga del neto total $ 92369.08\n"
          ]
        }
      ],
      "source": [
        "# Porcentaje del presupuesto total para imprevistos\n",
        "percentage_number_to_decimal = per_imprevistos / 100.0\n",
        "pay_imprevistos = percentage_number_to_decimal * net_total_budget\n",
        "print(rol_imprevistos, per_imprevistos, '%', 'del proyecto, se le paga del neto total', '$', f'{pay_imprevistos:.2f}')    \n",
        "monthly_rate_imprevistos = pay_imprevistos / project_duration_months     "
      ]
    },
    {
      "cell_type": "code",
      "source": [
        "sum_salarios_colaboradores = pay_colaborador01 + pay_colaborador02 + pay_colaborador03 + pay_colaborador04 + pay_colaborador05 + pay_colaborador06 + pay_colaborador07 + pay_colaborador08 + pay_antena + pay_imprevistos\n",
        "print(f'{sum_salarios_colaboradores}')"
      ],
      "metadata": {
        "colab": {
          "base_uri": "https://localhost:8080/"
        },
        "id": "DryT5ytUb6tk",
        "outputId": "1a86584c-bb1e-47df-f5cb-016d89ea0bc6"
      },
      "execution_count": null,
      "outputs": [
        {
          "output_type": "stream",
          "name": "stdout",
          "text": [
            "1847381.6755999997\n"
          ]
        }
      ]
    },
    {
      "cell_type": "code",
      "execution_count": null,
      "metadata": {
        "colab": {
          "base_uri": "https://localhost:8080/"
        },
        "id": "NE2yOx8zQwro",
        "outputId": "fff945a1-57d8-45df-fc15-bc9dd7b8f560"
      },
      "outputs": [
        {
          "output_type": "stream",
          "name": "stdout",
          "text": [
            "Product Owner se lleva el 13 % del proyecto, se le paga del neto total $ 240159.62 en 12 mensualidades de $ 20013.30\n",
            "Tech Architect 10 % del proyecto, se le paga del neto total $ 184,738.17 en 12 mensualidades de $ 15394.85\n",
            "Project Manager 9 % del proyecto, se le paga del neto total $ 166,264.35 en 12 mensualidades de $ 13855.36\n",
            "Data Engineer 8 % del proyecto, se le paga del neto total $ 147,790.53 en 12 mensualidades de $ 12315.88\n",
            "Data Scientist 7 % del proyecto, se le paga del neto total $ 129,316.72 en 12 mensualidades de $ 10776.39\n",
            "Sr. Developer 6 % del proyecto, se le paga del neto total $ 110,842.90 en 12 mensualidades de $ 9236.91\n",
            "Jr. Developer 4 % del proyecto, se le paga del neto total $ 73,895.27 en 12 mensualidades de $ 6157.94\n",
            "Tester 3 % del proyecto, se le paga del neto total $ 55,421.45 en 12 mensualidades de $ 4618.45\n",
            "Antena Labs 35 % del proyecto, se le paga del neto total $ 646,583.59\n",
            "Imprevistos 5 % del proyecto, se le paga a Antena del neto total $ 92,369.08\n",
            "Impuestos = $ 254811.26559999998\n",
            "Suma de todos los salarios: 1847381.6755999997\n",
            "Total de % presupuesto 100\n",
            "Presupuesto total neto: MXN$ 1847381.6756\n",
            "-2.3283064365386963e-10\n"
          ]
        }
      ],
      "source": [
        "print(rol_colaborador01, 'se lleva el', per_colaborador01, '%', 'del proyecto, se le paga del neto total', '$', f'{pay_colaborador01:.2f}', 'en', project_duration_months, 'mensualidades de $', f'{monthly_rate_colaborador01:.2f}')\n",
        "print(rol_colaborador02, per_colaborador02, '%', 'del proyecto, se le paga del neto total', '$', f'{pay_colaborador02:,.2f}', 'en', project_duration_months, 'mensualidades de $', f'{monthly_rate_colaborador02:.2f}')\n",
        "print(rol_colaborador03, per_colaborador03, '%', 'del proyecto, se le paga del neto total', '$', f'{pay_colaborador03:,.2f}', 'en', project_duration_months, 'mensualidades de $', f'{monthly_rate_colaborador03:.2f}')\n",
        "print(rol_colaborador04, per_colaborador04, '%', 'del proyecto, se le paga del neto total', '$', f'{pay_colaborador04:,.2f}', 'en', project_duration_months, 'mensualidades de $', f'{monthly_rate_colaborador04:.2f}')\n",
        "print(rol_colaborador05, per_colaborador05, '%', 'del proyecto, se le paga del neto total', '$', f'{pay_colaborador05:,.2f}', 'en', project_duration_months, 'mensualidades de $', f'{monthly_rate_colaborador05:.2f}')\n",
        "print(rol_colaborador06, per_colaborador06, '%', 'del proyecto, se le paga del neto total', '$', f'{pay_colaborador06:,.2f}', 'en', project_duration_months, 'mensualidades de $', f'{monthly_rate_colaborador06:.2f}')\n",
        "print(rol_colaborador07, per_colaborador07, '%', 'del proyecto, se le paga del neto total', '$', f'{pay_colaborador07:,.2f}', 'en', project_duration_months, 'mensualidades de $', f'{monthly_rate_colaborador07:.2f}')\n",
        "print(rol_colaborador08, per_colaborador08, '%', 'del proyecto, se le paga del neto total', '$', f'{pay_colaborador08:,.2f}', 'en', project_duration_months, 'mensualidades de $', f'{monthly_rate_colaborador08:.2f}')\n",
        "print(rol_antena, per_antena, '%', 'del proyecto, se le paga del neto total', '$', f'{pay_antena:,.2f}')\n",
        "print(rol_imprevistos, per_imprevistos, '%', 'del proyecto, se le paga a Antena del neto total', '$', f'{pay_imprevistos:,.2f}')\n",
        "print('Impuestos = $', tax_amount)\n",
        "print('Suma de todos los salarios:', sum_salarios_colaboradores)\n",
        "print('Total de % presupuesto', total_per_budget)\n",
        "print('Presupuesto total neto:', 'MXN$', net_total_budget)\n",
        "budget_discrepancy =  sum_salarios_colaboradores - net_total_budget\n",
        "print(budget_discrepancy)"
      ]
    },
    {
      "cell_type": "code",
      "source": [
        "from prettytable import PrettyTable\n",
        "\n",
        "# Hay que cambiar las strings por valores de las variables. \n",
        "# Specify the Column Names while initializing the Table\n",
        "myTable = PrettyTable([\"Rol Colaborador\", \" % \", \"Pagos totales\", \"Mensualidades\", \"No. Months\"])\n",
        " \n",
        "# Add rows\n",
        "myTable.add_row([f\"{rol_colaborador01}\", f\"{per_colaborador01}%\", f\"${pay_colaborador01:,.2f}\", f'${monthly_rate_colaborador01:,.2f}', f'{project_duration_months}'])\n",
        "myTable.add_row([f\"{rol_colaborador02}\", f\"{per_colaborador02}%\", f\"${pay_colaborador02:,.2f}\", f'${monthly_rate_colaborador02:,.2f}', f'{project_duration_months}'])\n",
        "myTable.add_row([f\"{rol_colaborador03}\", f\"{per_colaborador03}%\", f\"${pay_colaborador03:,.2f}\", f'${monthly_rate_colaborador03:,.2f}', f'{project_duration_months}'])\n",
        "myTable.add_row([f\"{rol_colaborador04}\", f\"{per_colaborador04}%\", f\"${pay_colaborador04:,.2f}\", f'${monthly_rate_colaborador04:,.2f}', f'{project_duration_months}'])\n",
        "myTable.add_row([f\"{rol_colaborador05}\", f\"{per_colaborador05}%\", f\"${pay_colaborador05:,.2f}\", f'${monthly_rate_colaborador05:,.2f}', f'{project_duration_months}'])\n",
        "myTable.add_row([f\"{rol_colaborador06}\", f\"{per_colaborador06}%\", f\"${pay_colaborador06:,.2f}\", f'${monthly_rate_colaborador06:,.2f}', f'{project_duration_months}'])\n",
        "myTable.add_row([f\"{rol_colaborador07}\", f\"{per_colaborador07}%\", f\"${pay_colaborador07:,.2f}\", f'${monthly_rate_colaborador07:,.2f}', f'{project_duration_months}'])\n",
        "myTable.add_row([f\"{rol_antena}\", f\"{per_antena}%\", f\"${pay_antena:,.2f}\", f'${monthly_rate_antena:,.2f}', f'{project_duration_months}'])\n",
        "myTable.add_row([f\"{rol_imprevistos}\", f\"{per_imprevistos}%\", f\"${pay_imprevistos:,.2f}\", f'${monthly_rate_imprevistos:,.2f}', f'{project_duration_months}'])\n",
        "myTable.add_row([f\"{'TOTAL'}\", f\"{total_per_budget:,.2f}%\", f\"${sum_salarios_colaboradores:,.2f}\", f'${net_monthly_budget:,.2f}', f'{project_duration_months}'])\n",
        "\n",
        "print(myTable)\n",
        "\n",
        "if net_total_budget == sum_salarios_colaboradores:\n",
        "  print('En presupuesto justo')\n",
        "elif net_total_budget > sum_salarios_colaboradores:\n",
        "    print('Debajo de presupuesto por:$', budget_discrepancy)\n",
        "elif net_total_budget < sum_salarios_colaboradores:\n",
        "    print('Sobrepasa el presupuesto por:               $', budget_discrepancy)\n",
        "\n",
        "print('Presupuesto total:           $', f'{net_total_budget:,.2f}')\n"
      ],
      "metadata": {
        "id": "CRFLY2-eG617",
        "colab": {
          "base_uri": "https://localhost:8080/"
        },
        "outputId": "86e79977-961f-4d4d-d1f4-ec88ba4f0192"
      },
      "execution_count": null,
      "outputs": [
        {
          "output_type": "stream",
          "name": "stdout",
          "text": [
            "+-----------------+---------+---------------+---------------+------------+\n",
            "| Rol Colaborador |    %    | Pagos totales | Mensualidades | No. Months |\n",
            "+-----------------+---------+---------------+---------------+------------+\n",
            "|  Product Owner  |   13%   |  $240,159.62  |   $20,013.30  |     12     |\n",
            "|  Tech Architect |   10%   |  $184,738.17  |   $15,394.85  |     12     |\n",
            "| Project Manager |    9%   |  $166,264.35  |   $13,855.36  |     12     |\n",
            "|  Data Engineer  |    8%   |  $147,790.53  |   $12,315.88  |     12     |\n",
            "|  Data Scientist |    7%   |  $129,316.72  |   $10,776.39  |     12     |\n",
            "|  Sr. Developer  |    6%   |  $110,842.90  |   $9,236.91   |     12     |\n",
            "|  Jr. Developer  |    4%   |   $73,895.27  |   $6,157.94   |     12     |\n",
            "|   Antena Labs   |   35%   |  $646,583.59  |   $53,881.97  |     12     |\n",
            "|   Imprevistos   |    5%   |   $92,369.08  |   $7,697.42   |     12     |\n",
            "|      TOTAL      | 100.00% | $1,847,381.68 |  $153,948.47  |     12     |\n",
            "+-----------------+---------+---------------+---------------+------------+\n",
            "Debajo de presupuesto por:$ -2.3283064365386963e-10\n",
            "Presupuesto total:           $ 1,847,381.68\n"
          ]
        }
      ]
    },
    {
      "cell_type": "code",
      "source": [
        "# ISR\n",
        "# Link a la tab https://www.elcontribuyente.mx/calculadora/isr/\n",
        "# https://www.elcontribuyente.mx/2022/01/tablas-isr-2022-2/\n",
        "año = 2022\n",
        "periodo = 'mensual'\n",
        "ingreso_gravable = 2400000.00\n",
        "limite_inferior = 108281.68\n",
        "limite_superior = 324845.01\n",
        "diferencia = ingreso_gravable - limite_inferior\n",
        "print('Diferencia entre límite inferior e ingreso gravable:', '$', f'{diferencia:,.2f}')\n",
        "tasa = .34\n",
        "impuesto_marginal = diferencia * .34\n",
        "print('Diferencia multiplicado por la tasa de impuestos:','$', f'{impuesto_marginal:,.2f}')\n",
        "cuota_fija = 28245.36 \n",
        "impuesto_previo = impuesto_marginal + cuota_fija\n",
        "print('Impuestos previo:','$', f'{impuesto_previo:,.2f}')\n",
        "subsidio_al_empleado_calculado = 00.00\n",
        "impuesto_a_retener = impuesto_previo\n",
        "ingreso_gravado = ingreso_gravable\n",
        "subsidio_a_entregar_al_empleado = 00.00 \n",
        "percepcion_efectiva = ingreso_gravado - impuesto_a_retener\n",
        "print('Percepción efectiva:','$', f'{percepcion_efectiva:,.2f}')"
      ],
      "metadata": {
        "id": "O8K2VBPcr7bZ",
        "colab": {
          "base_uri": "https://localhost:8080/"
        },
        "outputId": "9b27228d-9b1f-4138-ef89-91c7eb86bc9f"
      },
      "execution_count": null,
      "outputs": [
        {
          "output_type": "stream",
          "name": "stdout",
          "text": [
            "Diferencia entre límite inferior e ingreso gravable: $ 2,291,718.32\n",
            "Diferencia multiplicado por la tasa de impuestos: $ 779,184.23\n",
            "Impuestos previo: $ 807,429.59\n",
            "Percepción efectiva: $ 1,592,570.41\n"
          ]
        }
      ]
    },
    {
      "cell_type": "code",
      "source": [
        "# Libraries\n",
        "import numpy as np\n",
        "import matplotlib.pyplot as plt\n",
        "\n",
        "# Make a random dataset:\n",
        "height = [pay_colaborador01, pay_colaborador02, pay_colaborador03, pay_colaborador04, pay_colaborador05, pay_colaborador06, pay_colaborador07, pay_colaborador08, pay_antena, pay_imprevistos]\n",
        "bars = ('C01', 'C02', 'C03', 'C04', 'C05', 'C06', 'C07', 'C08', 'CA', 'Imprev')\n",
        "y_pos = np.arange(len(bars))\n",
        "\n",
        "# Create bars\n",
        "plt.bar(y_pos, height)\n",
        "\n",
        "# Create names on the x-axis\n",
        "plt.xticks(y_pos, bars)\n",
        "\n",
        "# Show graphic\n",
        "plt.show()"
      ],
      "metadata": {
        "colab": {
          "base_uri": "https://localhost:8080/",
          "height": 265
        },
        "id": "mb_flGB6xLye",
        "outputId": "81bdf08d-99d6-4372-a7a0-6724e7e95d27"
      },
      "execution_count": null,
      "outputs": [
        {
          "output_type": "display_data",
          "data": {
            "text/plain": [
              "<Figure size 432x288 with 1 Axes>"
            ],
            "image/png": "[encoded data removed]"
          },
          "metadata": {
            "needs_background": "light"
          }
        }
      ]
    },
    {
      "cell_type": "code",
      "source": [
        ""
      ],
      "metadata": {
        "id": "6JRUubp3xNAS"
      },
      "execution_count": null,
      "outputs": []
    }
  ],
  "metadata": {
    "colab": {
      "name": "Budget-Team-Calculator-PersonasMorales.ipynb",
      "provenance": [],
      "collapsed_sections": [],
      "authorship_tag": "ABX9TyN+/WFSTAGf/ENJy+ijZoSG",
      "include_colab_link": true
    },
    "kernelspec": {
      "display_name": "Python 3",
      "name": "python3"
    },
    "language_info": {
      "name": "python"
    }
  },
  "nbformat": 4,
  "nbformat_minor": 0
}